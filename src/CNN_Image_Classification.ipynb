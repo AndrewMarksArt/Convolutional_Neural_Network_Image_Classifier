{
 "cells": [
  {
   "cell_type": "code",
   "execution_count": 30,
   "metadata": {},
   "outputs": [],
   "source": [
    "from PIL import Image\n",
    "from pathlib import Path\n",
    "\n",
    "from tensorflow.keras.models import Sequential\n",
    "from tensorflow.keras.layers import BatchNormalization\n",
    "from tensorflow.keras.layers import Conv2D\n",
    "from tensorflow.keras.layers import MaxPooling2D\n",
    "from tensorflow.keras.layers import Activation\n",
    "from tensorflow.keras.layers import Flatten\n",
    "from tensorflow.keras.layers import Dropout\n",
    "from tensorflow.keras.layers import Dense\n",
    "from tensorflow.keras import backend as K\n",
    "from sklearn.preprocessing import LabelBinarizer\n",
    "from sklearn.model_selection import train_test_split\n",
    "from sklearn.metrics import classification_report\n",
    "from tensorflow.keras.preprocessing.image import ImageDataGenerator\n",
    "from tensorflow.keras.optimizers import SGD\n",
    "from imutils import paths\n",
    "\n",
    "import pandas as pd\n",
    "import numpy as np\n",
    "import matplotlib.pyplot as plt\n",
    "import cv2\n",
    "import Augmentor\n",
    "import os\n",
    "import datetime\n",
    "import random\n",
    "import pickle"
   ]
  },
  {
   "cell_type": "code",
   "execution_count": 2,
   "metadata": {},
   "outputs": [],
   "source": [
    "pd.set_option('display.max_rows', None)"
   ]
  },
  {
   "cell_type": "markdown",
   "metadata": {},
   "source": [
    "# Using Agnes Martin Catalog Data with Style, Motif, and Subject labels with images to train a CNN\n",
    "\n",
    "**Process**\n",
    "1. create a dataframe with the images and labels\n",
    "2. split the dataset into train and test -> make sure the class distributions are the same for both\n",
    "3. Build, train, test a baseline CNN model to predict the class of each image\n",
    "4. Save the predictions (probability of each class) to be used as features in clustering model"
   ]
  },
  {
   "cell_type": "markdown",
   "metadata": {},
   "source": [
    "## Step 1: create our feature matrix with our images and labels"
   ]
  },
  {
   "cell_type": "code",
   "execution_count": 3,
   "metadata": {},
   "outputs": [
    {
     "data": {
      "text/html": [
       "<div>\n",
       "<style scoped>\n",
       "    .dataframe tbody tr th:only-of-type {\n",
       "        vertical-align: middle;\n",
       "    }\n",
       "\n",
       "    .dataframe tbody tr th {\n",
       "        vertical-align: top;\n",
       "    }\n",
       "\n",
       "    .dataframe thead th {\n",
       "        text-align: right;\n",
       "    }\n",
       "</style>\n",
       "<table border=\"1\" class=\"dataframe\">\n",
       "  <thead>\n",
       "    <tr style=\"text-align: right;\">\n",
       "      <th></th>\n",
       "      <th>id</th>\n",
       "      <th>link</th>\n",
       "      <th>title</th>\n",
       "      <th>no_pieces</th>\n",
       "      <th>circa</th>\n",
       "      <th>year_made</th>\n",
       "      <th>medium (alpha, )</th>\n",
       "      <th>support</th>\n",
       "      <th>height (cm)</th>\n",
       "      <th>width (cm)</th>\n",
       "      <th>...</th>\n",
       "      <th>no_ex</th>\n",
       "      <th>no_exspaces</th>\n",
       "      <th>no_semsoloex</th>\n",
       "      <th>no_pub</th>\n",
       "      <th>red</th>\n",
       "      <th>green</th>\n",
       "      <th>blue</th>\n",
       "      <th>hue</th>\n",
       "      <th>saturation</th>\n",
       "      <th>light</th>\n",
       "    </tr>\n",
       "  </thead>\n",
       "  <tbody>\n",
       "    <tr>\n",
       "      <th>0</th>\n",
       "      <td>1947.003</td>\n",
       "      <td>https://www.artifexpress.com/catalogues/agnes-...</td>\n",
       "      <td>Self Portrait</td>\n",
       "      <td>1</td>\n",
       "      <td>1</td>\n",
       "      <td>1947</td>\n",
       "      <td>encaustic</td>\n",
       "      <td>canvas</td>\n",
       "      <td>66.0</td>\n",
       "      <td>49.5</td>\n",
       "      <td>...</td>\n",
       "      <td>2</td>\n",
       "      <td>2</td>\n",
       "      <td>1</td>\n",
       "      <td>0</td>\n",
       "      <td>96</td>\n",
       "      <td>83</td>\n",
       "      <td>58</td>\n",
       "      <td>39</td>\n",
       "      <td>0.25</td>\n",
       "      <td>0.30</td>\n",
       "    </tr>\n",
       "    <tr>\n",
       "      <th>1</th>\n",
       "      <td>1947.006</td>\n",
       "      <td>https://www.artifexpress.com/catalogues/agnes-...</td>\n",
       "      <td>Portrait of Daphne Vaughn</td>\n",
       "      <td>1</td>\n",
       "      <td>1</td>\n",
       "      <td>1947</td>\n",
       "      <td>encaustic</td>\n",
       "      <td>canvas</td>\n",
       "      <td>50.8</td>\n",
       "      <td>40.6</td>\n",
       "      <td>...</td>\n",
       "      <td>2</td>\n",
       "      <td>4</td>\n",
       "      <td>0</td>\n",
       "      <td>4</td>\n",
       "      <td>122</td>\n",
       "      <td>65</td>\n",
       "      <td>36</td>\n",
       "      <td>20</td>\n",
       "      <td>0.54</td>\n",
       "      <td>0.31</td>\n",
       "    </tr>\n",
       "    <tr>\n",
       "      <th>2</th>\n",
       "      <td>1947.001</td>\n",
       "      <td>https://www.artifexpress.com/catalogues/agnes-...</td>\n",
       "      <td>Nude</td>\n",
       "      <td>1</td>\n",
       "      <td>0</td>\n",
       "      <td>1947</td>\n",
       "      <td>oil</td>\n",
       "      <td>canvas</td>\n",
       "      <td>50.8</td>\n",
       "      <td>40.6</td>\n",
       "      <td>...</td>\n",
       "      <td>3</td>\n",
       "      <td>6</td>\n",
       "      <td>0</td>\n",
       "      <td>4</td>\n",
       "      <td>125</td>\n",
       "      <td>122</td>\n",
       "      <td>73</td>\n",
       "      <td>57</td>\n",
       "      <td>0.26</td>\n",
       "      <td>0.39</td>\n",
       "    </tr>\n",
       "    <tr>\n",
       "      <th>3</th>\n",
       "      <td>1948.001</td>\n",
       "      <td>https://www.artifexpress.com/catalogues/agnes-...</td>\n",
       "      <td>Untitled</td>\n",
       "      <td>1</td>\n",
       "      <td>1</td>\n",
       "      <td>1948</td>\n",
       "      <td>encaustic</td>\n",
       "      <td>canvas</td>\n",
       "      <td>45.7</td>\n",
       "      <td>35.6</td>\n",
       "      <td>...</td>\n",
       "      <td>2</td>\n",
       "      <td>4</td>\n",
       "      <td>0</td>\n",
       "      <td>2</td>\n",
       "      <td>87</td>\n",
       "      <td>65</td>\n",
       "      <td>64</td>\n",
       "      <td>3</td>\n",
       "      <td>0.15</td>\n",
       "      <td>0.30</td>\n",
       "    </tr>\n",
       "    <tr>\n",
       "      <th>4</th>\n",
       "      <td>1949.001</td>\n",
       "      <td>https://www.artifexpress.com/catalogues/agnes-...</td>\n",
       "      <td>Untitled</td>\n",
       "      <td>1</td>\n",
       "      <td>1</td>\n",
       "      <td>1949</td>\n",
       "      <td>oil</td>\n",
       "      <td>masonite</td>\n",
       "      <td>25.6</td>\n",
       "      <td>53.3</td>\n",
       "      <td>...</td>\n",
       "      <td>2</td>\n",
       "      <td>4</td>\n",
       "      <td>0</td>\n",
       "      <td>6</td>\n",
       "      <td>91</td>\n",
       "      <td>48</td>\n",
       "      <td>38</td>\n",
       "      <td>11</td>\n",
       "      <td>0.41</td>\n",
       "      <td>0.25</td>\n",
       "    </tr>\n",
       "  </tbody>\n",
       "</table>\n",
       "<p>5 rows × 30 columns</p>\n",
       "</div>"
      ],
      "text/plain": [
       "         id                                               link  \\\n",
       "0  1947.003  https://www.artifexpress.com/catalogues/agnes-...   \n",
       "1  1947.006  https://www.artifexpress.com/catalogues/agnes-...   \n",
       "2  1947.001  https://www.artifexpress.com/catalogues/agnes-...   \n",
       "3  1948.001  https://www.artifexpress.com/catalogues/agnes-...   \n",
       "4  1949.001  https://www.artifexpress.com/catalogues/agnes-...   \n",
       "\n",
       "                       title  no_pieces  circa  year_made medium (alpha, )  \\\n",
       "0              Self Portrait          1      1       1947        encaustic   \n",
       "1  Portrait of Daphne Vaughn          1      1       1947        encaustic   \n",
       "2                       Nude          1      0       1947              oil   \n",
       "3                   Untitled          1      1       1948        encaustic   \n",
       "4                   Untitled          1      1       1949              oil   \n",
       "\n",
       "    support  height (cm)  width (cm)  ...  no_ex no_exspaces no_semsoloex  \\\n",
       "0    canvas         66.0        49.5  ...      2           2            1   \n",
       "1    canvas         50.8        40.6  ...      2           4            0   \n",
       "2    canvas         50.8        40.6  ...      3           6            0   \n",
       "3    canvas         45.7        35.6  ...      2           4            0   \n",
       "4  masonite         25.6        53.3  ...      2           4            0   \n",
       "\n",
       "  no_pub  red  green  blue hue saturation light  \n",
       "0      0   96     83    58  39       0.25  0.30  \n",
       "1      4  122     65    36  20       0.54  0.31  \n",
       "2      4  125    122    73  57       0.26  0.39  \n",
       "3      2   87     65    64   3       0.15  0.30  \n",
       "4      6   91     48    38  11       0.41  0.25  \n",
       "\n",
       "[5 rows x 30 columns]"
      ]
     },
     "execution_count": 3,
     "metadata": {},
     "output_type": "execute_result"
    }
   ],
   "source": [
    "# set path to data\n",
    "data_path = '../src/Data/CSV_Files/'\n",
    "\n",
    "# read csv file and print out first few rows\n",
    "df = pd.read_csv(data_path+'catalog_data.csv')\n",
    "df['id'] = df['id'].apply(lambda x: format(x, '.3f'))\n",
    "df.head()"
   ]
  },
  {
   "cell_type": "code",
   "execution_count": 4,
   "metadata": {},
   "outputs": [
    {
     "data": {
      "text/html": [
       "<div>\n",
       "<style scoped>\n",
       "    .dataframe tbody tr th:only-of-type {\n",
       "        vertical-align: middle;\n",
       "    }\n",
       "\n",
       "    .dataframe tbody tr th {\n",
       "        vertical-align: top;\n",
       "    }\n",
       "\n",
       "    .dataframe thead th {\n",
       "        text-align: right;\n",
       "    }\n",
       "</style>\n",
       "<table border=\"1\" class=\"dataframe\">\n",
       "  <thead>\n",
       "    <tr style=\"text-align: right;\">\n",
       "      <th></th>\n",
       "      <th>id</th>\n",
       "      <th>subject</th>\n",
       "    </tr>\n",
       "  </thead>\n",
       "  <tbody>\n",
       "    <tr>\n",
       "      <th>0</th>\n",
       "      <td>1947.003</td>\n",
       "      <td>portrait</td>\n",
       "    </tr>\n",
       "    <tr>\n",
       "      <th>1</th>\n",
       "      <td>1947.006</td>\n",
       "      <td>portrait</td>\n",
       "    </tr>\n",
       "    <tr>\n",
       "      <th>2</th>\n",
       "      <td>1947.001</td>\n",
       "      <td>portrait</td>\n",
       "    </tr>\n",
       "    <tr>\n",
       "      <th>3</th>\n",
       "      <td>1948.001</td>\n",
       "      <td>still life</td>\n",
       "    </tr>\n",
       "    <tr>\n",
       "      <th>4</th>\n",
       "      <td>1949.001</td>\n",
       "      <td>abstract</td>\n",
       "    </tr>\n",
       "  </tbody>\n",
       "</table>\n",
       "</div>"
      ],
      "text/plain": [
       "         id     subject\n",
       "0  1947.003    portrait\n",
       "1  1947.006    portrait\n",
       "2  1947.001    portrait\n",
       "3  1948.001  still life\n",
       "4  1949.001    abstract"
      ]
     },
     "execution_count": 4,
     "metadata": {},
     "output_type": "execute_result"
    }
   ],
   "source": [
    "# drop all columns except for id and subject\n",
    "image_classes = df[['id', 'subject']]\n",
    "image_classes.head()"
   ]
  },
  {
   "cell_type": "code",
   "execution_count": 15,
   "metadata": {},
   "outputs": [
    {
     "data": {
      "text/plain": [
       "bands         255\n",
       "repetition    196\n",
       "grid           76\n",
       "rectangle      47\n",
       "square         19\n",
       "symmetry       14\n",
       "shape          10\n",
       "circle          4\n",
       "abstract        4\n",
       "portrait        3\n",
       "figure          3\n",
       "gestural        2\n",
       "landscape       2\n",
       "na              2\n",
       "still life      1\n",
       "Name: subject, dtype: int64"
      ]
     },
     "execution_count": 15,
     "metadata": {},
     "output_type": "execute_result"
    }
   ],
   "source": [
    "image_classes['subject'].value_counts()"
   ]
  },
  {
   "cell_type": "code",
   "execution_count": 67,
   "metadata": {},
   "outputs": [
    {
     "data": {
      "text/plain": [
       "{'portrait': 997,\n",
       " 'still life': 999,\n",
       " 'abstract': 996,\n",
       " 'landscape': 998,\n",
       " 'figure': 997,\n",
       " 'shape': 990,\n",
       " 'gestural': 998,\n",
       " 'rectangle': 953,\n",
       " 'square': 981,\n",
       " 'symmetry': 986,\n",
       " 'na': 998,\n",
       " 'repetition': 804,\n",
       " 'grid': 924,\n",
       " 'circle': 996,\n",
       " 'bands': 745}"
      ]
     },
     "execution_count": 67,
     "metadata": {},
     "output_type": "execute_result"
    }
   ],
   "source": [
    "class_name = image_classes['subject'].unique().tolist()\n",
    "\n",
    "aug = {}\n",
    "\n",
    "for subject in class_name:\n",
    "    num = image_classes['subject'][image_classes['subject'] == subject].value_counts().values[0]\n",
    "    num = 1000 - num\n",
    "    aug[subject] = num\n",
    "    \n",
    "aug"
   ]
  },
  {
   "cell_type": "code",
   "execution_count": null,
   "metadata": {},
   "outputs": [],
   "source": []
  },
  {
   "cell_type": "markdown",
   "metadata": {},
   "source": [
    "# move images into folders for each class label (Subject)"
   ]
  },
  {
   "cell_type": "code",
   "execution_count": 64,
   "metadata": {},
   "outputs": [],
   "source": [
    "for subject in class_name:\n",
    "    temp = image_classes[image_classes[\"subject\"] == subject]\n",
    "    ids = temp['id'].values.tolist()\n",
    "    subject = subject.replace(\" \", \"_\")\n",
    "    \n",
    "    for a_id in ids:\n",
    "        image_name = a_id + \".png\"\n",
    "        try:\n",
    "            Path(f\"./Data/Images/{image_name}\").rename(f\"./Data/Images/Subject/{subject}/{image_name}\")\n",
    "        except:\n",
    "            pass"
   ]
  },
  {
   "cell_type": "code",
   "execution_count": null,
   "metadata": {},
   "outputs": [],
   "source": []
  },
  {
   "cell_type": "markdown",
   "metadata": {},
   "source": [
    "# load images, resize, created number of augmented images so we have balanced classes and more images to train on "
   ]
  },
  {
   "cell_type": "code",
   "execution_count": 74,
   "metadata": {},
   "outputs": [
    {
     "name": "stdout",
     "output_type": "stream",
     "text": [
      "Initialised with 252 image(s) found.\n",
      "Output directory set to ./Data/images/Subject/bands/output."
     ]
    }
   ],
   "source": [
    "p = Augmentor.Pipeline('./Data/images/Subject/bands/')"
   ]
  },
  {
   "cell_type": "code",
   "execution_count": 75,
   "metadata": {},
   "outputs": [
    {
     "name": "stderr",
     "output_type": "stream",
     "text": [
      "Processing <PIL.Image.Image image mode=1 size=982x982 at 0x1B76FA597C8>: 100%|█| 1000/1000 [02:35<00:00,  6.43 Samples/\n"
     ]
    }
   ],
   "source": [
    "# Defining augmentation parameters and generating 5 samples \n",
    "p.flip_left_right(0.5) \n",
    "p.black_and_white(0.15) \n",
    "p.rotate(0.6, 15, 15) \n",
    "p.skew(0.6, 0.5) \n",
    "p.zoom(probability = 0.3, min_factor = 1.4, max_factor = 2.0)\n",
    "p.sample(1000)"
   ]
  },
  {
   "cell_type": "code",
   "execution_count": 79,
   "metadata": {},
   "outputs": [],
   "source": [
    "output_path = \"./Data/Images/Subject/bands/output/\"\n",
    "subject = \"bands\"\n",
    "f_names = os.listdir(output_path)\n",
    "for i in range(len(f_names)):\n",
    "    Path(output_path + f_names[i]).replace(f\"{output_path}{subject}_{i+1}.png\")"
   ]
  },
  {
   "cell_type": "code",
   "execution_count": 80,
   "metadata": {},
   "outputs": [
    {
     "name": "stderr",
     "output_type": "stream",
     "text": [
      "Executing Pipeline:   0%|                                                               | 0/1000 [00:00<?, ? Samples/s]"
     ]
    },
    {
     "name": "stdout",
     "output_type": "stream",
     "text": [
      "Initialised with 3 image(s) found.\n",
      "Output directory set to ./Data/images/Subject/portrait/output."
     ]
    },
    {
     "name": "stderr",
     "output_type": "stream",
     "text": [
      "Processing <PIL.Image.Image image mode=RGBA size=790x1024 at 0x1B76F86B448>: 100%|█| 1000/1000 [03:23<00:00,  4.90 Samp\n",
      "Executing Pipeline:   0%|                                                               | 0/1000 [00:00<?, ? Samples/s]"
     ]
    },
    {
     "name": "stdout",
     "output_type": "stream",
     "text": [
      "Initialised with 1 image(s) found.\n",
      "Output directory set to ./Data/images/Subject/still_life/output."
     ]
    },
    {
     "name": "stderr",
     "output_type": "stream",
     "text": [
      "Processing <PIL.Image.Image image mode=1 size=834x1024 at 0x1B76F572B08>: 100%|█| 1000/1000 [03:21<00:00,  4.95 Samples\n",
      "Executing Pipeline:   0%|                                                               | 0/1000 [00:00<?, ? Samples/s]"
     ]
    },
    {
     "name": "stdout",
     "output_type": "stream",
     "text": [
      "Initialised with 4 image(s) found.\n",
      "Output directory set to ./Data/images/Subject/abstract/output."
     ]
    },
    {
     "name": "stderr",
     "output_type": "stream",
     "text": [
      "Processing <PIL.Image.Image image mode=RGBA size=1026x758 at 0x1B76BE12288>: 100%|█| 1000/1000 [02:51<00:00,  5.83 Samp\n",
      "Executing Pipeline:   0%|                                                               | 0/1000 [00:00<?, ? Samples/s]"
     ]
    },
    {
     "name": "stdout",
     "output_type": "stream",
     "text": [
      "Initialised with 2 image(s) found.\n",
      "Output directory set to ./Data/images/Subject/landscape/output."
     ]
    },
    {
     "name": "stderr",
     "output_type": "stream",
     "text": [
      "Processing <PIL.Image.Image image mode=RGBA size=1026x870 at 0x1B76F598B08>: 100%|█| 1000/1000 [03:36<00:00,  4.62 Samp\n",
      "Executing Pipeline:   0%|                                                               | 0/1000 [00:00<?, ? Samples/s]"
     ]
    },
    {
     "name": "stdout",
     "output_type": "stream",
     "text": [
      "Initialised with 3 image(s) found.\n",
      "Output directory set to ./Data/images/Subject/figure/output."
     ]
    },
    {
     "name": "stderr",
     "output_type": "stream",
     "text": [
      "Processing <PIL.Image.Image image mode=RGBA size=1028x710 at 0x1B70036D0C8>: 100%|█| 1000/1000 [03:19<00:00,  5.02 Samp\n",
      "Executing Pipeline:   0%|                                                               | 0/1000 [00:00<?, ? Samples/s]"
     ]
    },
    {
     "name": "stdout",
     "output_type": "stream",
     "text": [
      "Initialised with 10 image(s) found.\n",
      "Output directory set to ./Data/images/Subject/shape/output."
     ]
    },
    {
     "name": "stderr",
     "output_type": "stream",
     "text": [
      "Processing <PIL.Image.Image image mode=RGBA size=872x606 at 0x1B76E79BE08>: 100%|█| 1000/1000 [02:36<00:00,  6.40 Sampl\n",
      "Executing Pipeline:   0%|                                                               | 0/1000 [00:00<?, ? Samples/s]"
     ]
    },
    {
     "name": "stdout",
     "output_type": "stream",
     "text": [
      "Initialised with 1 image(s) found.\n",
      "Output directory set to ./Data/images/Subject/gestural/output."
     ]
    },
    {
     "name": "stderr",
     "output_type": "stream",
     "text": [
      "Processing <PIL.Image.Image image mode=RGBA size=870x542 at 0x1B7003F3B48>: 100%|█| 1000/1000 [02:03<00:00,  8.12 Sampl\n",
      "Executing Pipeline:   0%|                                                               | 0/1000 [00:00<?, ? Samples/s]"
     ]
    },
    {
     "name": "stdout",
     "output_type": "stream",
     "text": [
      "Initialised with 46 image(s) found.\n",
      "Output directory set to ./Data/images/Subject/rectangle/output."
     ]
    },
    {
     "name": "stderr",
     "output_type": "stream",
     "text": [
      "Processing <PIL.Image.Image image mode=RGBA size=982x976 at 0x1B7005A7208>: 100%|█| 1000/1000 [03:54<00:00,  4.26 Sampl\n",
      "Executing Pipeline:   0%|                                                               | 0/1000 [00:00<?, ? Samples/s]"
     ]
    },
    {
     "name": "stdout",
     "output_type": "stream",
     "text": [
      "Initialised with 19 image(s) found.\n",
      "Output directory set to ./Data/images/Subject/square/output."
     ]
    },
    {
     "name": "stderr",
     "output_type": "stream",
     "text": [
      "Processing <PIL.Image.Image image mode=RGBA size=970x962 at 0x1B76FF968C8>: 100%|█| 1000/1000 [04:23<00:00,  3.79 Sampl\n",
      "Executing Pipeline:   0%|                                                               | 0/1000 [00:00<?, ? Samples/s]"
     ]
    },
    {
     "name": "stdout",
     "output_type": "stream",
     "text": [
      "Initialised with 14 image(s) found.\n",
      "Output directory set to ./Data/images/Subject/symmetry/output."
     ]
    },
    {
     "name": "stderr",
     "output_type": "stream",
     "text": [
      "Processing <PIL.Image.Image image mode=RGBA size=972x984 at 0x1B76FD8AA88>: 100%|█| 1000/1000 [03:51<00:00,  4.31 Sampl\n"
     ]
    },
    {
     "name": "stdout",
     "output_type": "stream",
     "text": [
      "Initialised with 0 image(s) found.\n",
      "Output directory set to ./Data/images/Subject/na/output."
     ]
    },
    {
     "ename": "IndexError",
     "evalue": "There are no images in the pipeline. Add a directory using add_directory(), pointing it to a directory containing images.",
     "output_type": "error",
     "traceback": [
      "\u001b[1;31m---------------------------------------------------------------------------\u001b[0m",
      "\u001b[1;31mIndexError\u001b[0m                                Traceback (most recent call last)",
      "\u001b[1;32m<ipython-input-80-866fd490878b>\u001b[0m in \u001b[0;36m<module>\u001b[1;34m\u001b[0m\n\u001b[0;32m     10\u001b[0m     \u001b[0mp\u001b[0m\u001b[1;33m.\u001b[0m\u001b[0mskew\u001b[0m\u001b[1;33m(\u001b[0m\u001b[1;36m0.6\u001b[0m\u001b[1;33m,\u001b[0m \u001b[1;36m0.5\u001b[0m\u001b[1;33m)\u001b[0m\u001b[1;33m\u001b[0m\u001b[1;33m\u001b[0m\u001b[0m\n\u001b[0;32m     11\u001b[0m     \u001b[0mp\u001b[0m\u001b[1;33m.\u001b[0m\u001b[0mzoom\u001b[0m\u001b[1;33m(\u001b[0m\u001b[0mprobability\u001b[0m \u001b[1;33m=\u001b[0m \u001b[1;36m0.3\u001b[0m\u001b[1;33m,\u001b[0m \u001b[0mmin_factor\u001b[0m \u001b[1;33m=\u001b[0m \u001b[1;36m1.4\u001b[0m\u001b[1;33m,\u001b[0m \u001b[0mmax_factor\u001b[0m \u001b[1;33m=\u001b[0m \u001b[1;36m2.0\u001b[0m\u001b[1;33m)\u001b[0m\u001b[1;33m\u001b[0m\u001b[1;33m\u001b[0m\u001b[0m\n\u001b[1;32m---> 12\u001b[1;33m     \u001b[0mp\u001b[0m\u001b[1;33m.\u001b[0m\u001b[0msample\u001b[0m\u001b[1;33m(\u001b[0m\u001b[1;36m1000\u001b[0m\u001b[1;33m)\u001b[0m\u001b[1;33m\u001b[0m\u001b[1;33m\u001b[0m\u001b[0m\n\u001b[0m\u001b[0;32m     13\u001b[0m \u001b[1;33m\u001b[0m\u001b[0m\n\u001b[0;32m     14\u001b[0m     \u001b[0moutput_path\u001b[0m \u001b[1;33m=\u001b[0m \u001b[1;34mf\"./Data/Images/Subject/{subject}/output/\"\u001b[0m\u001b[1;33m\u001b[0m\u001b[1;33m\u001b[0m\u001b[0m\n",
      "\u001b[1;32m~\\anaconda3\\lib\\site-packages\\Augmentor\\Pipeline.py\u001b[0m in \u001b[0;36msample\u001b[1;34m(self, n, multi_threaded)\u001b[0m\n\u001b[0;32m    346\u001b[0m         \"\"\"\n\u001b[0;32m    347\u001b[0m         \u001b[1;32mif\u001b[0m \u001b[0mlen\u001b[0m\u001b[1;33m(\u001b[0m\u001b[0mself\u001b[0m\u001b[1;33m.\u001b[0m\u001b[0maugmentor_images\u001b[0m\u001b[1;33m)\u001b[0m \u001b[1;33m==\u001b[0m \u001b[1;36m0\u001b[0m\u001b[1;33m:\u001b[0m\u001b[1;33m\u001b[0m\u001b[1;33m\u001b[0m\u001b[0m\n\u001b[1;32m--> 348\u001b[1;33m             raise IndexError(\"There are no images in the pipeline. \"\n\u001b[0m\u001b[0;32m    349\u001b[0m                              \u001b[1;34m\"Add a directory using add_directory(), \"\u001b[0m\u001b[1;33m\u001b[0m\u001b[1;33m\u001b[0m\u001b[0m\n\u001b[0;32m    350\u001b[0m                              \"pointing it to a directory containing images.\")\n",
      "\u001b[1;31mIndexError\u001b[0m: There are no images in the pipeline. Add a directory using add_directory(), pointing it to a directory containing images."
     ]
    }
   ],
   "source": [
    "for subject in class_name:\n",
    "    subject = subject.replace(\" \", \"_\")\n",
    "    path = f'./Data/images/Subject/{subject}/'\n",
    "    p = Augmentor.Pipeline(path)\n",
    "    \n",
    "    # Defining augmentation parameters and generating 5 samples \n",
    "    p.flip_left_right(0.5) \n",
    "    p.black_and_white(0.15) b\n",
    "    p.rotate(0.6, 15, 15) \n",
    "    p.skew(0.6, 0.5) \n",
    "    p.zoom(probability = 0.3, min_factor = 1.4, max_factor = 2.0)\n",
    "    p.sample(1000)\n",
    "    \n",
    "    output_path = f\"./Data/Images/Subject/{subject}/output/\"\n",
    "    f_names = os.listdir(output_path)\n",
    "    for i in range(len(f_names)):\n",
    "        Path(output_path + f_names[i]).replace(f\"{output_path}{subject}_{i+1}.png\")"
   ]
  },
  {
   "cell_type": "code",
   "execution_count": 81,
   "metadata": {},
   "outputs": [
    {
     "name": "stderr",
     "output_type": "stream",
     "text": [
      "Executing Pipeline:   0%|                                                               | 0/1000 [00:00<?, ? Samples/s]"
     ]
    },
    {
     "name": "stdout",
     "output_type": "stream",
     "text": [
      "Initialised with 193 image(s) found.\n",
      "Output directory set to ./Data/images/Subject/repetition/output."
     ]
    },
    {
     "name": "stderr",
     "output_type": "stream",
     "text": [
      "Processing <PIL.Image.Image image mode=1 size=790x798 at 0x1B77006C108>: 100%|█| 1000/1000 [02:47<00:00,  5.98 Samples/\n",
      "Executing Pipeline:   0%|                                                               | 0/1000 [00:00<?, ? Samples/s]"
     ]
    },
    {
     "name": "stdout",
     "output_type": "stream",
     "text": [
      "Initialised with 74 image(s) found.\n",
      "Output directory set to ./Data/images/Subject/grid/output."
     ]
    },
    {
     "name": "stderr",
     "output_type": "stream",
     "text": [
      "Processing <PIL.Image.Image image mode=RGBA size=990x994 at 0x1B76F8F0688>: 100%|█| 1000/1000 [03:30<00:00,  4.75 Sampl\n",
      "Executing Pipeline:   0%|                                                               | 0/1000 [00:00<?, ? Samples/s]"
     ]
    },
    {
     "name": "stdout",
     "output_type": "stream",
     "text": [
      "Initialised with 4 image(s) found.\n",
      "Output directory set to ./Data/images/Subject/circle/output."
     ]
    },
    {
     "name": "stderr",
     "output_type": "stream",
     "text": [
      "Processing <PIL.Image.Image image mode=RGBA size=978x986 at 0x1B700253A88>: 100%|█| 1000/1000 [03:48<00:00,  4.37 Sampl\n",
      "Executing Pipeline:   0%|                                                               | 0/1000 [00:00<?, ? Samples/s]"
     ]
    },
    {
     "name": "stdout",
     "output_type": "stream",
     "text": [
      "Initialised with 252 image(s) found.\n",
      "Output directory set to ./Data/images/Subject/bands/output."
     ]
    },
    {
     "name": "stderr",
     "output_type": "stream",
     "text": [
      "Processing <PIL.PngImagePlugin.PngImageFile image mode=RGBA size=982x984 at 0x1B76E9AD3C8>: 100%|█| 1000/1000 [03:30<00\n"
     ]
    }
   ],
   "source": [
    "class_name_left = [\n",
    "    'repetition',\n",
    "    'grid',\n",
    "    'circle',\n",
    "    'bands'\n",
    "]\n",
    "\n",
    "for subject in class_name_left:\n",
    "    \n",
    "    path = f'./Data/images/Subject/{subject}/'\n",
    "    p = Augmentor.Pipeline(path)\n",
    "    \n",
    "    # Defining augmentation parameters and generating 5 samples \n",
    "    p.flip_left_right(0.5) \n",
    "    p.black_and_white(0.15) \n",
    "    p.rotate(0.6, 15, 15) \n",
    "    p.skew(0.6, 0.5) \n",
    "    p.zoom(probability = 0.3, min_factor = 1.4, max_factor = 2.0)\n",
    "    p.sample(1000)\n",
    "    \n",
    "    output_path = f\"./Data/Images/Subject/{subject}/output/\"\n",
    "    f_names = os.listdir(output_path)\n",
    "    for i in range(len(f_names)):\n",
    "        Path(output_path + f_names[i]).replace(f\"{output_path}{subject}_{i+1}.png\")"
   ]
  },
  {
   "cell_type": "code",
   "execution_count": null,
   "metadata": {},
   "outputs": [],
   "source": []
  },
  {
   "cell_type": "markdown",
   "metadata": {},
   "source": [
    "# remove all white and all black images from the training_images"
   ]
  },
  {
   "cell_type": "code",
   "execution_count": 28,
   "metadata": {},
   "outputs": [
    {
     "data": {
      "text/plain": [
       "['abstract',\n",
       " 'bands',\n",
       " 'circle',\n",
       " 'figure',\n",
       " 'gestural',\n",
       " 'grid',\n",
       " 'landscape',\n",
       " 'portrait',\n",
       " 'rectangle',\n",
       " 'repetition',\n",
       " 'shape',\n",
       " 'square',\n",
       " 'still_life',\n",
       " 'symmetry']"
      ]
     },
     "execution_count": 28,
     "metadata": {},
     "output_type": "execute_result"
    }
   ],
   "source": [
    "folders = os.listdir('./Data/train_images/')\n",
    "folders.remove('test')\n",
    "folders"
   ]
  },
  {
   "cell_type": "code",
   "execution_count": 29,
   "metadata": {},
   "outputs": [],
   "source": [
    "for folder in folders:\n",
    "    path = f\"./Data/train_images/{folder}/\"\n",
    "\n",
    "    for filename in os.listdir(path):\n",
    "        if filename.endswith('.png'):\n",
    "            img = Image.open(path + filename)\n",
    "            img = img.convert('1')\n",
    "            clrs = img.getcolors()\n",
    "            try:\n",
    "                if len(clrs) == 1:\n",
    "                    os.remove(path + filename)\n",
    "            except:\n",
    "                print(f\"file: {filename}, has no colors/is none type\")"
   ]
  },
  {
   "cell_type": "code",
   "execution_count": null,
   "metadata": {},
   "outputs": [],
   "source": []
  },
  {
   "cell_type": "markdown",
   "metadata": {},
   "source": [
    "# create CNN model"
   ]
  },
  {
   "cell_type": "code",
   "execution_count": 31,
   "metadata": {},
   "outputs": [],
   "source": [
    "def build_model(width, height, depth, classes):\n",
    "    # initialize the model along with the input shape to be\n",
    "    # \"channels last\" and the channels dimension itself\n",
    "    model = Sequential()\n",
    "    inputShape = (height, width, depth)\n",
    "    chanDim = -1\n",
    "\n",
    "    # if we are using channels first update input shape\n",
    "    if K.image_data_format() == \"channels_first\":\n",
    "        inputShape = (depth, height, width)\n",
    "        chanDim = 1\n",
    "\n",
    "    # CONV -> RELU -> Pool layer set\n",
    "    model.add(Conv2D(32, (3, 3), padding=\"same\",\n",
    "                     input_shape=inputShape))\n",
    "    model.add(Activation(\"relu\"))\n",
    "    model.add(BatchNormalization(axis=chanDim))\n",
    "    model.add(MaxPooling2D(pool_size=(2, 2)))\n",
    "    model.add(Dropout(0.25))\n",
    "\n",
    "    # (CONV -> RELU) * 2 -> Pool layer set\n",
    "    model.add(Conv2D(64, (3, 3), padding=\"same\"))\n",
    "    model.add(Activation(\"relu\"))\n",
    "    model.add(BatchNormalization(axis=chanDim))\n",
    "    model.add(Conv2D(64, (3, 3), padding=\"same\"))\n",
    "    model.add(Activation(\"relu\"))\n",
    "    model.add(BatchNormalization(axis=chanDim))\n",
    "    model.add(MaxPooling2D(pool_size=(2, 2)))\n",
    "    model.add(Dropout(0.25))\n",
    "\n",
    "    # (CONV -> RELU) * 3 -> Pool\n",
    "    model.add(Conv2D(128, (3, 3), padding=\"same\"))\n",
    "    model.add(Activation(\"relu\"))\n",
    "    model.add(BatchNormalization(axis=chanDim))\n",
    "    model.add(Conv2D(128, (3, 3), padding=\"same\"))\n",
    "    model.add(Activation(\"relu\"))\n",
    "    model.add(BatchNormalization(axis=chanDim))\n",
    "    model.add(Conv2D(128, (3, 3), padding=\"same\"))\n",
    "    model.add(Activation(\"relu\"))\n",
    "    model.add(BatchNormalization(axis=chanDim))\n",
    "    model.add(MaxPooling2D(pool_size=(2, 2)))\n",
    "    model.add(Dropout(0.25))\n",
    "\n",
    "    # first and only Fully Connected -> RELU layer\n",
    "    model.add(Flatten())\n",
    "    model.add(Dense(512))\n",
    "    model.add(Activation(\"relu\"))\n",
    "    model.add(BatchNormalization())\n",
    "    model.add(Dropout(0.5))\n",
    "\n",
    "    # softmax classifier\n",
    "    model.add(Dense(classes))\n",
    "    model.add(Activation(\"softmax\"))\n",
    "\n",
    "    # return the model\n",
    "    return model"
   ]
  },
  {
   "cell_type": "markdown",
   "metadata": {},
   "source": [
    "# initialize the data and labels"
   ]
  },
  {
   "cell_type": "code",
   "execution_count": 32,
   "metadata": {},
   "outputs": [],
   "source": [
    "# initialize the data and labels\n",
    "data = []\n",
    "labels = []\n",
    "\n",
    "# get image paths and randomly shuffle them\n",
    "imagePaths = sorted(list(paths.list_images('./Data/train_images/')))\n",
    "random.seed(42)\n",
    "random.shuffle(imagePaths)"
   ]
  },
  {
   "cell_type": "code",
   "execution_count": 34,
   "metadata": {},
   "outputs": [],
   "source": [
    "# loop over input images\n",
    "for imagePath in imagePaths:\n",
    "    # load the image, resize to 64 x 64 pixels, store in data list\n",
    "    image = cv2.imread(imagePath)\n",
    "    image = cv2.resize(image, (64, 64))\n",
    "    data.append(image)\n",
    "    \n",
    "    # extract class labels from the image path, update labels list\n",
    "    label = imagePath.split(os.path.sep)[-2]\n",
    "    labels.append(label)"
   ]
  },
  {
   "cell_type": "code",
   "execution_count": 42,
   "metadata": {},
   "outputs": [
    {
     "data": {
      "text/plain": [
       "'./Data/train_images/still_life'"
      ]
     },
     "execution_count": 42,
     "metadata": {},
     "output_type": "execute_result"
    }
   ],
   "source": [
    "# check to make sure labels are just the subject\n",
    "labels[0]"
   ]
  },
  {
   "cell_type": "code",
   "execution_count": 46,
   "metadata": {},
   "outputs": [],
   "source": [
    "# strip file path and return just subject label\n",
    "labels = [label_split.split('/')[-1] for label_split in labels]"
   ]
  },
  {
   "cell_type": "code",
   "execution_count": 49,
   "metadata": {},
   "outputs": [],
   "source": [
    "# scale raw pixels between [0, 1]\n",
    "data = np.array(data, dtype=\"float\") / 255.0\n",
    "\n",
    "# make labels list and numpy array\n",
    "labels = np.array(labels)"
   ]
  },
  {
   "cell_type": "code",
   "execution_count": 50,
   "metadata": {},
   "outputs": [],
   "source": [
    "# split data and labels into train/test set, 80/20\n",
    "X_train, X_test, y_train, y_test = train_test_split(data, labels, test_size=0.20, random_state=42)"
   ]
  },
  {
   "cell_type": "code",
   "execution_count": 55,
   "metadata": {},
   "outputs": [],
   "source": [
    "# convert labels to vectors\n",
    "lb = LabelBinarizer()\n",
    "y_train = lb.fit_transform(y_train)\n",
    "y_test = lb.fit_transform(y_test)"
   ]
  },
  {
   "cell_type": "code",
   "execution_count": 59,
   "metadata": {},
   "outputs": [],
   "source": [
    "# construct image generator for data augmentation\n",
    "aug = ImageDataGenerator(rotation_range=30,\n",
    "                        width_shift_range=0.1,\n",
    "                        height_shift_range=0.1,\n",
    "                        shear_range=0.2,\n",
    "                        zoom_range=0.2,\n",
    "                        horizontal_flip=True,\n",
    "                        fill_mode=\"nearest\")"
   ]
  },
  {
   "cell_type": "code",
   "execution_count": 60,
   "metadata": {},
   "outputs": [],
   "source": [
    "# initialize the smallVGGNet CNN\n",
    "model = build_model(width=64, height=64, depth=3, classes=len(lb.classes_))"
   ]
  },
  {
   "cell_type": "code",
   "execution_count": 61,
   "metadata": {},
   "outputs": [],
   "source": [
    "# initialize learning rate, epochs, and batch size\n",
    "LR = 0.01\n",
    "EPOCHS = 75\n",
    "BS = 32\n",
    "\n",
    "# initialize the model optimizer\n",
    "opt = SGD(lr=LR, decay=LR / EPOCHS)\n",
    "model.compile(loss=\"categorical_crossentropy\", optimizer=opt, metrics=[\"accuracy\"])"
   ]
  },
  {
   "cell_type": "code",
   "execution_count": 62,
   "metadata": {},
   "outputs": [
    {
     "name": "stdout",
     "output_type": "stream",
     "text": [
      "Epoch 1/75\n",
      "354/354 [==============================] - 249s 704ms/step - loss: 2.2709 - accuracy: 0.3840 - val_loss: 4.7981 - val_accuracy: 0.1319\n",
      "Epoch 2/75\n",
      "354/354 [==============================] - 260s 735ms/step - loss: 1.5029 - accuracy: 0.5364 - val_loss: 3.0469 - val_accuracy: 0.3958\n",
      "Epoch 3/75\n",
      "354/354 [==============================] - 289s 816ms/step - loss: 1.2869 - accuracy: 0.5838 - val_loss: 1.4255 - val_accuracy: 0.5672\n",
      "Epoch 4/75\n",
      "354/354 [==============================] - 290s 820ms/step - loss: 1.1209 - accuracy: 0.6200 - val_loss: 2.0007 - val_accuracy: 0.4660\n",
      "Epoch 5/75\n",
      "354/354 [==============================] - 290s 819ms/step - loss: 1.0067 - accuracy: 0.6516 - val_loss: 2.6267 - val_accuracy: 0.3552\n",
      "Epoch 6/75\n",
      "354/354 [==============================] - 287s 810ms/step - loss: 0.9393 - accuracy: 0.6693 - val_loss: 1.6171 - val_accuracy: 0.4780\n",
      "Epoch 7/75\n",
      "354/354 [==============================] - 289s 818ms/step - loss: 0.8761 - accuracy: 0.6822 - val_loss: 1.7322 - val_accuracy: 0.5372\n",
      "Epoch 8/75\n",
      "354/354 [==============================] - 287s 810ms/step - loss: 0.8362 - accuracy: 0.6981 - val_loss: 2.3525 - val_accuracy: 0.4649\n",
      "Epoch 9/75\n",
      "354/354 [==============================] - 286s 809ms/step - loss: 0.8314 - accuracy: 0.6967 - val_loss: 3.8479 - val_accuracy: 0.3333\n",
      "Epoch 10/75\n",
      "354/354 [==============================] - 285s 806ms/step - loss: 0.7828 - accuracy: 0.7096 - val_loss: 2.6542 - val_accuracy: 0.4388\n",
      "Epoch 11/75\n",
      "354/354 [==============================] - 286s 808ms/step - loss: 0.7789 - accuracy: 0.7069 - val_loss: 1.2760 - val_accuracy: 0.5788\n",
      "Epoch 12/75\n",
      "354/354 [==============================] - 287s 811ms/step - loss: 0.7456 - accuracy: 0.7186 - val_loss: 1.0961 - val_accuracy: 0.6444\n",
      "Epoch 13/75\n",
      "354/354 [==============================] - 287s 809ms/step - loss: 0.7070 - accuracy: 0.7317 - val_loss: 2.0816 - val_accuracy: 0.4519\n",
      "Epoch 14/75\n",
      "354/354 [==============================] - 287s 811ms/step - loss: 0.7053 - accuracy: 0.7266 - val_loss: 1.0526 - val_accuracy: 0.6536\n",
      "Epoch 15/75\n",
      "354/354 [==============================] - 286s 808ms/step - loss: 0.6829 - accuracy: 0.7356 - val_loss: 0.6986 - val_accuracy: 0.7358\n",
      "Epoch 16/75\n",
      "354/354 [==============================] - 286s 808ms/step - loss: 0.6686 - accuracy: 0.7437 - val_loss: 4.0164 - val_accuracy: 0.3517\n",
      "Epoch 17/75\n",
      "354/354 [==============================] - 285s 804ms/step - loss: 0.6285 - accuracy: 0.7527 - val_loss: 1.9357 - val_accuracy: 0.5323\n",
      "Epoch 18/75\n",
      "354/354 [==============================] - 288s 813ms/step - loss: 0.6225 - accuracy: 0.7586 - val_loss: 1.9854 - val_accuracy: 0.5496\n",
      "Epoch 19/75\n",
      "354/354 [==============================] - 286s 807ms/step - loss: 0.6190 - accuracy: 0.7596 - val_loss: 0.7284 - val_accuracy: 0.7132\n",
      "Epoch 20/75\n",
      "354/354 [==============================] - 295s 833ms/step - loss: 0.5882 - accuracy: 0.7649 - val_loss: 1.1320 - val_accuracy: 0.6441\n",
      "Epoch 21/75\n",
      "354/354 [==============================] - 296s 837ms/step - loss: 0.5726 - accuracy: 0.7720 - val_loss: 1.5899 - val_accuracy: 0.5859\n",
      "Epoch 22/75\n",
      "354/354 [==============================] - 298s 842ms/step - loss: 0.5640 - accuracy: 0.7766 - val_loss: 1.7788 - val_accuracy: 0.5372\n",
      "Epoch 23/75\n",
      "354/354 [==============================] - 295s 833ms/step - loss: 0.5489 - accuracy: 0.7777 - val_loss: 0.6085 - val_accuracy: 0.7700\n",
      "Epoch 24/75\n",
      "354/354 [==============================] - 297s 839ms/step - loss: 0.5450 - accuracy: 0.7787 - val_loss: 1.4866 - val_accuracy: 0.5795\n",
      "Epoch 25/75\n",
      "354/354 [==============================] - 298s 841ms/step - loss: 0.5218 - accuracy: 0.7893 - val_loss: 3.0419 - val_accuracy: 0.4212\n",
      "Epoch 26/75\n",
      "354/354 [==============================] - 299s 843ms/step - loss: 0.5218 - accuracy: 0.7916 - val_loss: 2.0459 - val_accuracy: 0.5672\n",
      "Epoch 27/75\n",
      "354/354 [==============================] - 297s 840ms/step - loss: 0.5087 - accuracy: 0.7915 - val_loss: 1.0913 - val_accuracy: 0.6808\n",
      "Epoch 28/75\n",
      "354/354 [==============================] - 297s 839ms/step - loss: 0.4965 - accuracy: 0.7974 - val_loss: 1.9792 - val_accuracy: 0.5489\n",
      "Epoch 29/75\n",
      "354/354 [==============================] - 296s 837ms/step - loss: 0.5028 - accuracy: 0.7991 - val_loss: 0.7952 - val_accuracy: 0.7153\n",
      "Epoch 30/75\n",
      "354/354 [==============================] - 297s 839ms/step - loss: 0.4846 - accuracy: 0.7969 - val_loss: 2.3335 - val_accuracy: 0.5203\n",
      "Epoch 31/75\n",
      "354/354 [==============================] - 297s 838ms/step - loss: 0.4740 - accuracy: 0.8057 - val_loss: 0.7968 - val_accuracy: 0.7196\n",
      "Epoch 32/75\n",
      "354/354 [==============================] - 298s 841ms/step - loss: 0.4843 - accuracy: 0.8018 - val_loss: 0.8377 - val_accuracy: 0.7086\n",
      "Epoch 33/75\n",
      "354/354 [==============================] - 297s 839ms/step - loss: 0.4664 - accuracy: 0.8101 - val_loss: 3.8360 - val_accuracy: 0.4046\n",
      "Epoch 34/75\n",
      "354/354 [==============================] - 297s 839ms/step - loss: 0.4561 - accuracy: 0.8123 - val_loss: 2.2061 - val_accuracy: 0.5496\n",
      "Epoch 35/75\n",
      "354/354 [==============================] - 296s 836ms/step - loss: 0.4566 - accuracy: 0.8075 - val_loss: 3.3024 - val_accuracy: 0.4540\n",
      "Epoch 36/75\n",
      "354/354 [==============================] - 304s 860ms/step - loss: 0.4477 - accuracy: 0.8142 - val_loss: 0.4883 - val_accuracy: 0.7922\n",
      "Epoch 37/75\n",
      "354/354 [==============================] - 310s 876ms/step - loss: 0.4476 - accuracy: 0.8159 - val_loss: 2.5276 - val_accuracy: 0.5034\n",
      "Epoch 38/75\n",
      "354/354 [==============================] - 308s 871ms/step - loss: 0.4452 - accuracy: 0.8176 - val_loss: 1.3983 - val_accuracy: 0.6325\n",
      "Epoch 39/75\n",
      "354/354 [==============================] - 308s 870ms/step - loss: 0.4270 - accuracy: 0.8235 - val_loss: 0.5204 - val_accuracy: 0.7979\n",
      "Epoch 40/75\n",
      "354/354 [==============================] - 309s 874ms/step - loss: 0.4394 - accuracy: 0.8163 - val_loss: 0.5332 - val_accuracy: 0.7979\n",
      "Epoch 41/75\n",
      "354/354 [==============================] - 307s 868ms/step - loss: 0.4337 - accuracy: 0.8165 - val_loss: 0.3901 - val_accuracy: 0.8272\n",
      "Epoch 42/75\n",
      "354/354 [==============================] - 310s 877ms/step - loss: 0.4198 - accuracy: 0.8273 - val_loss: 0.6704 - val_accuracy: 0.7443\n",
      "Epoch 43/75\n",
      "354/354 [==============================] - 309s 872ms/step - loss: 0.4195 - accuracy: 0.8244 - val_loss: 2.1621 - val_accuracy: 0.5760\n",
      "Epoch 44/75\n",
      "354/354 [==============================] - 307s 868ms/step - loss: 0.4205 - accuracy: 0.8255 - val_loss: 2.8042 - val_accuracy: 0.5055\n",
      "Epoch 45/75\n",
      "354/354 [==============================] - 307s 866ms/step - loss: 0.4156 - accuracy: 0.8301 - val_loss: 0.8942 - val_accuracy: 0.6854\n",
      "Epoch 46/75\n",
      "354/354 [==============================] - 305s 862ms/step - loss: 0.4136 - accuracy: 0.8307 - val_loss: 0.8201 - val_accuracy: 0.7168\n",
      "Epoch 47/75\n",
      "354/354 [==============================] - 268s 758ms/step - loss: 0.4188 - accuracy: 0.8226 - val_loss: 0.5693 - val_accuracy: 0.7852\n",
      "Epoch 48/75\n",
      "354/354 [==============================] - 277s 782ms/step - loss: 0.4038 - accuracy: 0.8289 - val_loss: 0.7371 - val_accuracy: 0.7552\n",
      "Epoch 49/75\n",
      "354/354 [==============================] - 277s 783ms/step - loss: 0.4041 - accuracy: 0.8294 - val_loss: 0.4211 - val_accuracy: 0.8240\n",
      "Epoch 50/75\n",
      "354/354 [==============================] - 277s 781ms/step - loss: 0.3988 - accuracy: 0.8327 - val_loss: 3.4355 - val_accuracy: 0.5217\n",
      "Epoch 51/75\n",
      "354/354 [==============================] - 261s 736ms/step - loss: 0.3916 - accuracy: 0.8321 - val_loss: 1.3807 - val_accuracy: 0.6032\n",
      "Epoch 52/75\n",
      "354/354 [==============================] - 264s 746ms/step - loss: 0.3954 - accuracy: 0.8329 - val_loss: 0.6150 - val_accuracy: 0.7824\n",
      "Epoch 53/75\n",
      "354/354 [==============================] - 272s 768ms/step - loss: 0.3850 - accuracy: 0.8366 - val_loss: 0.4422 - val_accuracy: 0.8042\n",
      "Epoch 54/75\n",
      "354/354 [==============================] - 266s 752ms/step - loss: 0.3817 - accuracy: 0.8399 - val_loss: 0.3923 - val_accuracy: 0.8279\n",
      "Epoch 55/75\n",
      "354/354 [==============================] - 251s 710ms/step - loss: 0.3900 - accuracy: 0.8370 - val_loss: 0.5472 - val_accuracy: 0.7944\n",
      "Epoch 56/75\n",
      "354/354 [==============================] - 264s 746ms/step - loss: 0.3806 - accuracy: 0.8386 - val_loss: 2.6862 - val_accuracy: 0.4716\n",
      "Epoch 57/75\n",
      "354/354 [==============================] - 268s 757ms/step - loss: 0.3803 - accuracy: 0.8378 - val_loss: 1.1074 - val_accuracy: 0.6907\n",
      "Epoch 58/75\n",
      "354/354 [==============================] - 256s 723ms/step - loss: 0.3820 - accuracy: 0.8358 - val_loss: 0.5733 - val_accuracy: 0.7834\n",
      "Epoch 59/75\n",
      "354/354 [==============================] - 259s 731ms/step - loss: 0.3807 - accuracy: 0.8387 - val_loss: 1.5963 - val_accuracy: 0.6222\n",
      "Epoch 60/75\n",
      "354/354 [==============================] - 275s 776ms/step - loss: 0.3694 - accuracy: 0.8404 - val_loss: 4.2599 - val_accuracy: 0.4434\n",
      "Epoch 61/75\n",
      "354/354 [==============================] - 274s 774ms/step - loss: 0.3649 - accuracy: 0.8437 - val_loss: 1.8575 - val_accuracy: 0.5481\n",
      "Epoch 62/75\n",
      "354/354 [==============================] - 274s 774ms/step - loss: 0.3769 - accuracy: 0.8392 - val_loss: 1.7889 - val_accuracy: 0.6293\n",
      "Epoch 63/75\n",
      "354/354 [==============================] - 275s 776ms/step - loss: 0.3650 - accuracy: 0.8465 - val_loss: 2.2810 - val_accuracy: 0.5439\n",
      "Epoch 64/75\n",
      "354/354 [==============================] - 274s 775ms/step - loss: 0.3636 - accuracy: 0.8466 - val_loss: 0.4652 - val_accuracy: 0.8067\n",
      "Epoch 65/75\n",
      "354/354 [==============================] - 275s 777ms/step - loss: 0.3615 - accuracy: 0.8450 - val_loss: 0.7669 - val_accuracy: 0.7587\n",
      "Epoch 66/75\n",
      "354/354 [==============================] - 275s 777ms/step - loss: 0.3693 - accuracy: 0.8431 - val_loss: 1.9093 - val_accuracy: 0.5633\n",
      "Epoch 67/75\n",
      "354/354 [==============================] - 274s 774ms/step - loss: 0.3679 - accuracy: 0.8399 - val_loss: 0.5681 - val_accuracy: 0.7894\n",
      "Epoch 68/75\n",
      "354/354 [==============================] - 276s 778ms/step - loss: 0.3506 - accuracy: 0.8458 - val_loss: 0.7522 - val_accuracy: 0.7499\n",
      "Epoch 69/75\n",
      "354/354 [==============================] - 274s 775ms/step - loss: 0.3663 - accuracy: 0.8470 - val_loss: 0.4236 - val_accuracy: 0.8173\n",
      "Epoch 70/75\n",
      "354/354 [==============================] - 275s 777ms/step - loss: 0.3627 - accuracy: 0.8439 - val_loss: 3.9891 - val_accuracy: 0.4116\n",
      "Epoch 71/75\n",
      "354/354 [==============================] - 275s 777ms/step - loss: 0.3444 - accuracy: 0.8516 - val_loss: 1.4917 - val_accuracy: 0.6444\n",
      "Epoch 72/75\n",
      "354/354 [==============================] - 276s 780ms/step - loss: 0.3608 - accuracy: 0.8434 - val_loss: 1.2284 - val_accuracy: 0.6564\n",
      "Epoch 73/75\n",
      "354/354 [==============================] - 274s 774ms/step - loss: 0.3448 - accuracy: 0.8471 - val_loss: 1.9176 - val_accuracy: 0.6021\n",
      "Epoch 74/75\n",
      "354/354 [==============================] - 274s 773ms/step - loss: 0.3528 - accuracy: 0.8497 - val_loss: 1.0334 - val_accuracy: 0.7192\n",
      "Epoch 75/75\n",
      "354/354 [==============================] - 274s 774ms/step - loss: 0.3523 - accuracy: 0.8492 - val_loss: 3.8841 - val_accuracy: 0.4226\n"
     ]
    }
   ],
   "source": [
    "# train the model\n",
    "history = model.fit(x=aug.flow(X_train, y_train, batch_size=BS),\n",
    "                   validation_data=(X_test, y_test),\n",
    "                   steps_per_epoch=len(X_train) // BS,\n",
    "                   epochs=EPOCHS)"
   ]
  },
  {
   "cell_type": "markdown",
   "metadata": {},
   "source": [
    "# evaluate the model and printout the classification report"
   ]
  },
  {
   "cell_type": "code",
   "execution_count": 63,
   "metadata": {},
   "outputs": [
    {
     "name": "stdout",
     "output_type": "stream",
     "text": [
      "              precision    recall  f1-score   support\n",
      "\n",
      "    abstract       0.98      0.68      0.80       191\n",
      "       bands       0.85      0.13      0.22       180\n",
      "      circle       1.00      0.28      0.43       217\n",
      "      figure       0.80      0.09      0.17       171\n",
      "    gestural       0.00      0.00      0.00       201\n",
      "        grid       0.12      0.82      0.21       197\n",
      "   landscape       0.97      0.74      0.84       208\n",
      "    portrait       0.95      0.83      0.89       201\n",
      "   rectangle       0.62      0.15      0.25       164\n",
      "  repetition       0.17      0.18      0.18       167\n",
      "       shape       1.00      0.39      0.56       204\n",
      "      square       0.36      0.55      0.43       168\n",
      "  still_life       0.99      0.98      0.98       194\n",
      "    symmetry       0.44      0.30      0.36       180\n",
      "        test       0.36      0.10      0.16       192\n",
      "\n",
      "    accuracy                           0.42      2835\n",
      "   macro avg       0.64      0.41      0.43      2835\n",
      "weighted avg       0.65      0.42      0.44      2835\n",
      "\n"
     ]
    },
    {
     "name": "stderr",
     "output_type": "stream",
     "text": [
      "C:\\Users\\Andrew\\AppData\\Roaming\\Python\\Python37\\site-packages\\sklearn\\metrics\\_classification.py:1221: UndefinedMetricWarning: Precision and F-score are ill-defined and being set to 0.0 in labels with no predicted samples. Use `zero_division` parameter to control this behavior.\n",
      "  _warn_prf(average, modifier, msg_start, len(result))\n"
     ]
    }
   ],
   "source": [
    "pred = model.predict(x=X_test, batch_size=BS)\n",
    "print(classification_report(y_test.argmax(axis=1), pred.argmax(axis=1), target_names=lb.classes_))"
   ]
  },
  {
   "cell_type": "code",
   "execution_count": null,
   "metadata": {},
   "outputs": [],
   "source": []
  },
  {
   "cell_type": "markdown",
   "metadata": {},
   "source": [
    "# plot the training loss and accuracy"
   ]
  },
  {
   "cell_type": "code",
   "execution_count": 69,
   "metadata": {},
   "outputs": [
    {
     "data": {
      "image/png": "[encoded data removed]",
      "text/plain": [
       "<Figure size 1224x504 with 1 Axes>"
      ]
     },
     "metadata": {},
     "output_type": "display_data"
    }
   ],
   "source": [
    "N = np.arange(0, EPOCHS)\n",
    "plt.style.use(\"ggplot\")\n",
    "plt.figure(figsize=(17,7))\n",
    "plt.plot(N, history.history[\"loss\"], label=\"train_loss\")\n",
    "plt.plot(N, history.history[\"val_loss\"], label=\"val_loss\")\n",
    "plt.plot(N, history.history[\"accuracy\"], label=\"train_acc\")\n",
    "plt.plot(N, history.history[\"val_accuracy\"], label=\"val_acc\")\n",
    "plt.title(\"Training Loss and Accuracy (smallVGGNet)\")\n",
    "plt.xlabel(\"Epoch #\")\n",
    "plt.ylabel(\"Loss/Accuracy\")\n",
    "plt.legend()\n",
    "\n",
    "# save the plot\n",
    "plt.savefig(\"./output/first_pass_CNN.png\")\n",
    "\n",
    "# show the plot\n",
    "plt.show();"
   ]
  },
  {
   "cell_type": "code",
   "execution_count": null,
   "metadata": {},
   "outputs": [],
   "source": []
  },
  {
   "cell_type": "markdown",
   "metadata": {},
   "source": [
    "# save the model and label binarizer"
   ]
  },
  {
   "cell_type": "code",
   "execution_count": 70,
   "metadata": {},
   "outputs": [],
   "source": [
    "model.save(\"./output/first_pass_cnn.model\", save_format=\"h5\")\n",
    "f = open(\"./output/first_pass_labels.pickle\", \"wb\")\n",
    "f.write(pickle.dumps(lb))\n",
    "f.close()"
   ]
  },
  {
   "cell_type": "code",
   "execution_count": null,
   "metadata": {},
   "outputs": [],
   "source": []
  },
  {
   "cell_type": "code",
   "execution_count": null,
   "metadata": {},
   "outputs": [],
   "source": []
  }
 ],
 "metadata": {
  "kernelspec": {
   "display_name": "Python 3",
   "language": "python",
   "name": "python3"
  },
  "language_info": {
   "codemirror_mode": {
    "name": "ipython",
    "version": 3
   },
   "file_extension": ".py",
   "mimetype": "text/x-python",
   "name": "python",
   "nbconvert_exporter": "python",
   "pygments_lexer": "ipython3",
   "version": "3.7.6"
  }
 },
 "nbformat": 4,
 "nbformat_minor": 4
}
