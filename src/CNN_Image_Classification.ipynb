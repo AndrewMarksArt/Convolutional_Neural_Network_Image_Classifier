{
 "cells": [
  {
   "cell_type": "code",
   "execution_count": 42,
   "metadata": {},
   "outputs": [],
   "source": [
    "import os\n",
    "import datetime\n",
    "from pathlib import Path\n",
    "\n",
    "import pandas as pd\n",
    "import numpy as np\n",
    "import matplotlib.pyplot as plt\n",
    "\n",
    "import category_encoders as ce\n",
    "\n",
    "from sklearn.model_selection import train_test_split\n",
    "import tensorflow as tf\n",
    "from keras.models import Sequential\n",
    "from keras_preprocessing.image import ImageDataGenerator\n",
    "from keras.layers import Dense, Activation, Flatten, Dropout, BatchNormalization\n",
    "from keras.layers import Conv2D, MaxPooling2D\n",
    "from keras import regularizers, optimizers\n",
    "from tensorflow.keras import optimizers\n",
    "\n",
    "import cv2\n",
    "from PIL import Image\n",
    "\n",
    "import Augmentor"
   ]
  },
  {
   "cell_type": "code",
   "execution_count": 2,
   "metadata": {},
   "outputs": [],
   "source": [
    "pd.set_option('display.max_rows', None)"
   ]
  },
  {
   "cell_type": "markdown",
   "metadata": {},
   "source": [
    "# Using Agnes Martin Catalog Data with Style, Motif, and Subject labels with images to train a CNN\n",
    "\n",
    "**Process**\n",
    "1. create a dataframe with the images and labels\n",
    "2. split the dataset into train and test -> make sure the class distributions are the same for both\n",
    "3. Build, train, test a baseline CNN model to predict the class of each image\n",
    "4. Save the predictions (probability of each class) to be used as features in clustering model"
   ]
  },
  {
   "cell_type": "markdown",
   "metadata": {},
   "source": [
    "## Step 1: create our feature matrix with our images and labels"
   ]
  },
  {
   "cell_type": "code",
   "execution_count": 3,
   "metadata": {},
   "outputs": [
    {
     "data": {
      "text/html": [
       "<div>\n",
       "<style scoped>\n",
       "    .dataframe tbody tr th:only-of-type {\n",
       "        vertical-align: middle;\n",
       "    }\n",
       "\n",
       "    .dataframe tbody tr th {\n",
       "        vertical-align: top;\n",
       "    }\n",
       "\n",
       "    .dataframe thead th {\n",
       "        text-align: right;\n",
       "    }\n",
       "</style>\n",
       "<table border=\"1\" class=\"dataframe\">\n",
       "  <thead>\n",
       "    <tr style=\"text-align: right;\">\n",
       "      <th></th>\n",
       "      <th>id</th>\n",
       "      <th>link</th>\n",
       "      <th>title</th>\n",
       "      <th>no_pieces</th>\n",
       "      <th>circa</th>\n",
       "      <th>year_made</th>\n",
       "      <th>medium (alpha, )</th>\n",
       "      <th>support</th>\n",
       "      <th>height (cm)</th>\n",
       "      <th>width (cm)</th>\n",
       "      <th>...</th>\n",
       "      <th>no_ex</th>\n",
       "      <th>no_exspaces</th>\n",
       "      <th>no_semsoloex</th>\n",
       "      <th>no_pub</th>\n",
       "      <th>red</th>\n",
       "      <th>green</th>\n",
       "      <th>blue</th>\n",
       "      <th>hue</th>\n",
       "      <th>saturation</th>\n",
       "      <th>light</th>\n",
       "    </tr>\n",
       "  </thead>\n",
       "  <tbody>\n",
       "    <tr>\n",
       "      <th>0</th>\n",
       "      <td>1947.003</td>\n",
       "      <td>https://www.artifexpress.com/catalogues/agnes-...</td>\n",
       "      <td>Self Portrait</td>\n",
       "      <td>1</td>\n",
       "      <td>1</td>\n",
       "      <td>1947</td>\n",
       "      <td>encaustic</td>\n",
       "      <td>canvas</td>\n",
       "      <td>66.0</td>\n",
       "      <td>49.5</td>\n",
       "      <td>...</td>\n",
       "      <td>2</td>\n",
       "      <td>2</td>\n",
       "      <td>1</td>\n",
       "      <td>0</td>\n",
       "      <td>96</td>\n",
       "      <td>83</td>\n",
       "      <td>58</td>\n",
       "      <td>39</td>\n",
       "      <td>0.25</td>\n",
       "      <td>0.30</td>\n",
       "    </tr>\n",
       "    <tr>\n",
       "      <th>1</th>\n",
       "      <td>1947.006</td>\n",
       "      <td>https://www.artifexpress.com/catalogues/agnes-...</td>\n",
       "      <td>Portrait of Daphne Vaughn</td>\n",
       "      <td>1</td>\n",
       "      <td>1</td>\n",
       "      <td>1947</td>\n",
       "      <td>encaustic</td>\n",
       "      <td>canvas</td>\n",
       "      <td>50.8</td>\n",
       "      <td>40.6</td>\n",
       "      <td>...</td>\n",
       "      <td>2</td>\n",
       "      <td>4</td>\n",
       "      <td>0</td>\n",
       "      <td>4</td>\n",
       "      <td>122</td>\n",
       "      <td>65</td>\n",
       "      <td>36</td>\n",
       "      <td>20</td>\n",
       "      <td>0.54</td>\n",
       "      <td>0.31</td>\n",
       "    </tr>\n",
       "    <tr>\n",
       "      <th>2</th>\n",
       "      <td>1947.001</td>\n",
       "      <td>https://www.artifexpress.com/catalogues/agnes-...</td>\n",
       "      <td>Nude</td>\n",
       "      <td>1</td>\n",
       "      <td>0</td>\n",
       "      <td>1947</td>\n",
       "      <td>oil</td>\n",
       "      <td>canvas</td>\n",
       "      <td>50.8</td>\n",
       "      <td>40.6</td>\n",
       "      <td>...</td>\n",
       "      <td>3</td>\n",
       "      <td>6</td>\n",
       "      <td>0</td>\n",
       "      <td>4</td>\n",
       "      <td>125</td>\n",
       "      <td>122</td>\n",
       "      <td>73</td>\n",
       "      <td>57</td>\n",
       "      <td>0.26</td>\n",
       "      <td>0.39</td>\n",
       "    </tr>\n",
       "    <tr>\n",
       "      <th>3</th>\n",
       "      <td>1948.001</td>\n",
       "      <td>https://www.artifexpress.com/catalogues/agnes-...</td>\n",
       "      <td>Untitled</td>\n",
       "      <td>1</td>\n",
       "      <td>1</td>\n",
       "      <td>1948</td>\n",
       "      <td>encaustic</td>\n",
       "      <td>canvas</td>\n",
       "      <td>45.7</td>\n",
       "      <td>35.6</td>\n",
       "      <td>...</td>\n",
       "      <td>2</td>\n",
       "      <td>4</td>\n",
       "      <td>0</td>\n",
       "      <td>2</td>\n",
       "      <td>87</td>\n",
       "      <td>65</td>\n",
       "      <td>64</td>\n",
       "      <td>3</td>\n",
       "      <td>0.15</td>\n",
       "      <td>0.30</td>\n",
       "    </tr>\n",
       "    <tr>\n",
       "      <th>4</th>\n",
       "      <td>1949.001</td>\n",
       "      <td>https://www.artifexpress.com/catalogues/agnes-...</td>\n",
       "      <td>Untitled</td>\n",
       "      <td>1</td>\n",
       "      <td>1</td>\n",
       "      <td>1949</td>\n",
       "      <td>oil</td>\n",
       "      <td>masonite</td>\n",
       "      <td>25.6</td>\n",
       "      <td>53.3</td>\n",
       "      <td>...</td>\n",
       "      <td>2</td>\n",
       "      <td>4</td>\n",
       "      <td>0</td>\n",
       "      <td>6</td>\n",
       "      <td>91</td>\n",
       "      <td>48</td>\n",
       "      <td>38</td>\n",
       "      <td>11</td>\n",
       "      <td>0.41</td>\n",
       "      <td>0.25</td>\n",
       "    </tr>\n",
       "  </tbody>\n",
       "</table>\n",
       "<p>5 rows × 30 columns</p>\n",
       "</div>"
      ],
      "text/plain": [
       "         id                                               link  \\\n",
       "0  1947.003  https://www.artifexpress.com/catalogues/agnes-...   \n",
       "1  1947.006  https://www.artifexpress.com/catalogues/agnes-...   \n",
       "2  1947.001  https://www.artifexpress.com/catalogues/agnes-...   \n",
       "3  1948.001  https://www.artifexpress.com/catalogues/agnes-...   \n",
       "4  1949.001  https://www.artifexpress.com/catalogues/agnes-...   \n",
       "\n",
       "                       title  no_pieces  circa  year_made medium (alpha, )  \\\n",
       "0              Self Portrait          1      1       1947        encaustic   \n",
       "1  Portrait of Daphne Vaughn          1      1       1947        encaustic   \n",
       "2                       Nude          1      0       1947              oil   \n",
       "3                   Untitled          1      1       1948        encaustic   \n",
       "4                   Untitled          1      1       1949              oil   \n",
       "\n",
       "    support  height (cm)  width (cm)  ...  no_ex no_exspaces no_semsoloex  \\\n",
       "0    canvas         66.0        49.5  ...      2           2            1   \n",
       "1    canvas         50.8        40.6  ...      2           4            0   \n",
       "2    canvas         50.8        40.6  ...      3           6            0   \n",
       "3    canvas         45.7        35.6  ...      2           4            0   \n",
       "4  masonite         25.6        53.3  ...      2           4            0   \n",
       "\n",
       "  no_pub  red  green  blue hue saturation light  \n",
       "0      0   96     83    58  39       0.25  0.30  \n",
       "1      4  122     65    36  20       0.54  0.31  \n",
       "2      4  125    122    73  57       0.26  0.39  \n",
       "3      2   87     65    64   3       0.15  0.30  \n",
       "4      6   91     48    38  11       0.41  0.25  \n",
       "\n",
       "[5 rows x 30 columns]"
      ]
     },
     "execution_count": 3,
     "metadata": {},
     "output_type": "execute_result"
    }
   ],
   "source": [
    "# set path to data\n",
    "data_path = '../src/Data/CSV_Files/'\n",
    "\n",
    "# read csv file and print out first few rows\n",
    "df = pd.read_csv(data_path+'catalog_data.csv')\n",
    "df['id'] = df['id'].apply(lambda x: format(x, '.3f'))\n",
    "df.head()"
   ]
  },
  {
   "cell_type": "code",
   "execution_count": 4,
   "metadata": {},
   "outputs": [
    {
     "data": {
      "text/html": [
       "<div>\n",
       "<style scoped>\n",
       "    .dataframe tbody tr th:only-of-type {\n",
       "        vertical-align: middle;\n",
       "    }\n",
       "\n",
       "    .dataframe tbody tr th {\n",
       "        vertical-align: top;\n",
       "    }\n",
       "\n",
       "    .dataframe thead th {\n",
       "        text-align: right;\n",
       "    }\n",
       "</style>\n",
       "<table border=\"1\" class=\"dataframe\">\n",
       "  <thead>\n",
       "    <tr style=\"text-align: right;\">\n",
       "      <th></th>\n",
       "      <th>id</th>\n",
       "      <th>subject</th>\n",
       "    </tr>\n",
       "  </thead>\n",
       "  <tbody>\n",
       "    <tr>\n",
       "      <th>0</th>\n",
       "      <td>1947.003</td>\n",
       "      <td>portrait</td>\n",
       "    </tr>\n",
       "    <tr>\n",
       "      <th>1</th>\n",
       "      <td>1947.006</td>\n",
       "      <td>portrait</td>\n",
       "    </tr>\n",
       "    <tr>\n",
       "      <th>2</th>\n",
       "      <td>1947.001</td>\n",
       "      <td>portrait</td>\n",
       "    </tr>\n",
       "    <tr>\n",
       "      <th>3</th>\n",
       "      <td>1948.001</td>\n",
       "      <td>still life</td>\n",
       "    </tr>\n",
       "    <tr>\n",
       "      <th>4</th>\n",
       "      <td>1949.001</td>\n",
       "      <td>abstract</td>\n",
       "    </tr>\n",
       "  </tbody>\n",
       "</table>\n",
       "</div>"
      ],
      "text/plain": [
       "         id     subject\n",
       "0  1947.003    portrait\n",
       "1  1947.006    portrait\n",
       "2  1947.001    portrait\n",
       "3  1948.001  still life\n",
       "4  1949.001    abstract"
      ]
     },
     "execution_count": 4,
     "metadata": {},
     "output_type": "execute_result"
    }
   ],
   "source": [
    "# drop all columns except for id and subject\n",
    "image_classes = df[['id', 'subject']]\n",
    "image_classes.head()"
   ]
  },
  {
   "cell_type": "code",
   "execution_count": 15,
   "metadata": {},
   "outputs": [
    {
     "data": {
      "text/plain": [
       "bands         255\n",
       "repetition    196\n",
       "grid           76\n",
       "rectangle      47\n",
       "square         19\n",
       "symmetry       14\n",
       "shape          10\n",
       "circle          4\n",
       "abstract        4\n",
       "portrait        3\n",
       "figure          3\n",
       "gestural        2\n",
       "landscape       2\n",
       "na              2\n",
       "still life      1\n",
       "Name: subject, dtype: int64"
      ]
     },
     "execution_count": 15,
     "metadata": {},
     "output_type": "execute_result"
    }
   ],
   "source": [
    "image_classes['subject'].value_counts()"
   ]
  },
  {
   "cell_type": "code",
   "execution_count": 67,
   "metadata": {},
   "outputs": [
    {
     "data": {
      "text/plain": [
       "{'portrait': 997,\n",
       " 'still life': 999,\n",
       " 'abstract': 996,\n",
       " 'landscape': 998,\n",
       " 'figure': 997,\n",
       " 'shape': 990,\n",
       " 'gestural': 998,\n",
       " 'rectangle': 953,\n",
       " 'square': 981,\n",
       " 'symmetry': 986,\n",
       " 'na': 998,\n",
       " 'repetition': 804,\n",
       " 'grid': 924,\n",
       " 'circle': 996,\n",
       " 'bands': 745}"
      ]
     },
     "execution_count": 67,
     "metadata": {},
     "output_type": "execute_result"
    }
   ],
   "source": [
    "class_name = image_classes['subject'].unique().tolist()\n",
    "\n",
    "aug = {}\n",
    "\n",
    "for subject in class_name:\n",
    "    num = image_classes['subject'][image_classes['subject'] == subject].value_counts().values[0]\n",
    "    num = 1000 - num\n",
    "    aug[subject] = num\n",
    "    \n",
    "aug"
   ]
  },
  {
   "cell_type": "code",
   "execution_count": null,
   "metadata": {},
   "outputs": [],
   "source": []
  },
  {
   "cell_type": "markdown",
   "metadata": {},
   "source": [
    "# move images into folders for each class label (Subject)"
   ]
  },
  {
   "cell_type": "code",
   "execution_count": 64,
   "metadata": {},
   "outputs": [],
   "source": [
    "for subject in class_name:\n",
    "    temp = image_classes[image_classes[\"subject\"] == subject]\n",
    "    ids = temp['id'].values.tolist()\n",
    "    subject = subject.replace(\" \", \"_\")\n",
    "    \n",
    "    for a_id in ids:\n",
    "        image_name = a_id + \".png\"\n",
    "        try:\n",
    "            Path(f\"./Data/Images/{image_name}\").rename(f\"./Data/Images/Subject/{subject}/{image_name}\")\n",
    "        except:\n",
    "            pass"
   ]
  },
  {
   "cell_type": "code",
   "execution_count": null,
   "metadata": {},
   "outputs": [],
   "source": []
  },
  {
   "cell_type": "markdown",
   "metadata": {},
   "source": [
    "# load images, resize, created number of augmented images so we have balanced classes and more images to train on "
   ]
  },
  {
   "cell_type": "code",
   "execution_count": 74,
   "metadata": {},
   "outputs": [
    {
     "name": "stdout",
     "output_type": "stream",
     "text": [
      "Initialised with 252 image(s) found.\n",
      "Output directory set to ./Data/images/Subject/bands/output."
     ]
    }
   ],
   "source": [
    "p = Augmentor.Pipeline('./Data/images/Subject/bands/')"
   ]
  },
  {
   "cell_type": "code",
   "execution_count": 75,
   "metadata": {},
   "outputs": [
    {
     "name": "stderr",
     "output_type": "stream",
     "text": [
      "Processing <PIL.Image.Image image mode=1 size=982x982 at 0x1B76FA597C8>: 100%|█| 1000/1000 [02:35<00:00,  6.43 Samples/\n"
     ]
    }
   ],
   "source": [
    "# Defining augmentation parameters and generating 5 samples \n",
    "p.flip_left_right(0.5) \n",
    "p.black_and_white(0.15) \n",
    "p.rotate(0.6, 15, 15) \n",
    "p.skew(0.6, 0.5) \n",
    "p.zoom(probability = 0.3, min_factor = 1.4, max_factor = 2.0)\n",
    "p.sample(1000)"
   ]
  },
  {
   "cell_type": "code",
   "execution_count": 79,
   "metadata": {},
   "outputs": [],
   "source": [
    "output_path = \"./Data/Images/Subject/bands/output/\"\n",
    "subject = \"bands\"\n",
    "f_names = os.listdir(output_path)\n",
    "for i in range(len(f_names)):\n",
    "    Path(output_path + f_names[i]).replace(f\"{output_path}{subject}_{i+1}.png\")"
   ]
  },
  {
   "cell_type": "code",
   "execution_count": 80,
   "metadata": {},
   "outputs": [
    {
     "name": "stderr",
     "output_type": "stream",
     "text": [
      "Executing Pipeline:   0%|                                                               | 0/1000 [00:00<?, ? Samples/s]"
     ]
    },
    {
     "name": "stdout",
     "output_type": "stream",
     "text": [
      "Initialised with 3 image(s) found.\n",
      "Output directory set to ./Data/images/Subject/portrait/output."
     ]
    },
    {
     "name": "stderr",
     "output_type": "stream",
     "text": [
      "Processing <PIL.Image.Image image mode=RGBA size=790x1024 at 0x1B76F86B448>: 100%|█| 1000/1000 [03:23<00:00,  4.90 Samp\n",
      "Executing Pipeline:   0%|                                                               | 0/1000 [00:00<?, ? Samples/s]"
     ]
    },
    {
     "name": "stdout",
     "output_type": "stream",
     "text": [
      "Initialised with 1 image(s) found.\n",
      "Output directory set to ./Data/images/Subject/still_life/output."
     ]
    },
    {
     "name": "stderr",
     "output_type": "stream",
     "text": [
      "Processing <PIL.Image.Image image mode=1 size=834x1024 at 0x1B76F572B08>: 100%|█| 1000/1000 [03:21<00:00,  4.95 Samples\n",
      "Executing Pipeline:   0%|                                                               | 0/1000 [00:00<?, ? Samples/s]"
     ]
    },
    {
     "name": "stdout",
     "output_type": "stream",
     "text": [
      "Initialised with 4 image(s) found.\n",
      "Output directory set to ./Data/images/Subject/abstract/output."
     ]
    },
    {
     "name": "stderr",
     "output_type": "stream",
     "text": [
      "Processing <PIL.Image.Image image mode=RGBA size=1026x758 at 0x1B76BE12288>: 100%|█| 1000/1000 [02:51<00:00,  5.83 Samp\n",
      "Executing Pipeline:   0%|                                                               | 0/1000 [00:00<?, ? Samples/s]"
     ]
    },
    {
     "name": "stdout",
     "output_type": "stream",
     "text": [
      "Initialised with 2 image(s) found.\n",
      "Output directory set to ./Data/images/Subject/landscape/output."
     ]
    },
    {
     "name": "stderr",
     "output_type": "stream",
     "text": [
      "Processing <PIL.Image.Image image mode=RGBA size=1026x870 at 0x1B76F598B08>: 100%|█| 1000/1000 [03:36<00:00,  4.62 Samp\n",
      "Executing Pipeline:   0%|                                                               | 0/1000 [00:00<?, ? Samples/s]"
     ]
    },
    {
     "name": "stdout",
     "output_type": "stream",
     "text": [
      "Initialised with 3 image(s) found.\n",
      "Output directory set to ./Data/images/Subject/figure/output."
     ]
    },
    {
     "name": "stderr",
     "output_type": "stream",
     "text": [
      "Processing <PIL.Image.Image image mode=RGBA size=1028x710 at 0x1B70036D0C8>: 100%|█| 1000/1000 [03:19<00:00,  5.02 Samp\n",
      "Executing Pipeline:   0%|                                                               | 0/1000 [00:00<?, ? Samples/s]"
     ]
    },
    {
     "name": "stdout",
     "output_type": "stream",
     "text": [
      "Initialised with 10 image(s) found.\n",
      "Output directory set to ./Data/images/Subject/shape/output."
     ]
    },
    {
     "name": "stderr",
     "output_type": "stream",
     "text": [
      "Processing <PIL.Image.Image image mode=RGBA size=872x606 at 0x1B76E79BE08>: 100%|█| 1000/1000 [02:36<00:00,  6.40 Sampl\n",
      "Executing Pipeline:   0%|                                                               | 0/1000 [00:00<?, ? Samples/s]"
     ]
    },
    {
     "name": "stdout",
     "output_type": "stream",
     "text": [
      "Initialised with 1 image(s) found.\n",
      "Output directory set to ./Data/images/Subject/gestural/output."
     ]
    },
    {
     "name": "stderr",
     "output_type": "stream",
     "text": [
      "Processing <PIL.Image.Image image mode=RGBA size=870x542 at 0x1B7003F3B48>: 100%|█| 1000/1000 [02:03<00:00,  8.12 Sampl\n",
      "Executing Pipeline:   0%|                                                               | 0/1000 [00:00<?, ? Samples/s]"
     ]
    },
    {
     "name": "stdout",
     "output_type": "stream",
     "text": [
      "Initialised with 46 image(s) found.\n",
      "Output directory set to ./Data/images/Subject/rectangle/output."
     ]
    },
    {
     "name": "stderr",
     "output_type": "stream",
     "text": [
      "Processing <PIL.Image.Image image mode=RGBA size=982x976 at 0x1B7005A7208>: 100%|█| 1000/1000 [03:54<00:00,  4.26 Sampl\n",
      "Executing Pipeline:   0%|                                                               | 0/1000 [00:00<?, ? Samples/s]"
     ]
    },
    {
     "name": "stdout",
     "output_type": "stream",
     "text": [
      "Initialised with 19 image(s) found.\n",
      "Output directory set to ./Data/images/Subject/square/output."
     ]
    },
    {
     "name": "stderr",
     "output_type": "stream",
     "text": [
      "Processing <PIL.Image.Image image mode=RGBA size=970x962 at 0x1B76FF968C8>: 100%|█| 1000/1000 [04:23<00:00,  3.79 Sampl\n",
      "Executing Pipeline:   0%|                                                               | 0/1000 [00:00<?, ? Samples/s]"
     ]
    },
    {
     "name": "stdout",
     "output_type": "stream",
     "text": [
      "Initialised with 14 image(s) found.\n",
      "Output directory set to ./Data/images/Subject/symmetry/output."
     ]
    },
    {
     "name": "stderr",
     "output_type": "stream",
     "text": [
      "Processing <PIL.Image.Image image mode=RGBA size=972x984 at 0x1B76FD8AA88>: 100%|█| 1000/1000 [03:51<00:00,  4.31 Sampl\n"
     ]
    },
    {
     "name": "stdout",
     "output_type": "stream",
     "text": [
      "Initialised with 0 image(s) found.\n",
      "Output directory set to ./Data/images/Subject/na/output."
     ]
    },
    {
     "ename": "IndexError",
     "evalue": "There are no images in the pipeline. Add a directory using add_directory(), pointing it to a directory containing images.",
     "output_type": "error",
     "traceback": [
      "\u001b[1;31m---------------------------------------------------------------------------\u001b[0m",
      "\u001b[1;31mIndexError\u001b[0m                                Traceback (most recent call last)",
      "\u001b[1;32m<ipython-input-80-866fd490878b>\u001b[0m in \u001b[0;36m<module>\u001b[1;34m\u001b[0m\n\u001b[0;32m     10\u001b[0m     \u001b[0mp\u001b[0m\u001b[1;33m.\u001b[0m\u001b[0mskew\u001b[0m\u001b[1;33m(\u001b[0m\u001b[1;36m0.6\u001b[0m\u001b[1;33m,\u001b[0m \u001b[1;36m0.5\u001b[0m\u001b[1;33m)\u001b[0m\u001b[1;33m\u001b[0m\u001b[1;33m\u001b[0m\u001b[0m\n\u001b[0;32m     11\u001b[0m     \u001b[0mp\u001b[0m\u001b[1;33m.\u001b[0m\u001b[0mzoom\u001b[0m\u001b[1;33m(\u001b[0m\u001b[0mprobability\u001b[0m \u001b[1;33m=\u001b[0m \u001b[1;36m0.3\u001b[0m\u001b[1;33m,\u001b[0m \u001b[0mmin_factor\u001b[0m \u001b[1;33m=\u001b[0m \u001b[1;36m1.4\u001b[0m\u001b[1;33m,\u001b[0m \u001b[0mmax_factor\u001b[0m \u001b[1;33m=\u001b[0m \u001b[1;36m2.0\u001b[0m\u001b[1;33m)\u001b[0m\u001b[1;33m\u001b[0m\u001b[1;33m\u001b[0m\u001b[0m\n\u001b[1;32m---> 12\u001b[1;33m     \u001b[0mp\u001b[0m\u001b[1;33m.\u001b[0m\u001b[0msample\u001b[0m\u001b[1;33m(\u001b[0m\u001b[1;36m1000\u001b[0m\u001b[1;33m)\u001b[0m\u001b[1;33m\u001b[0m\u001b[1;33m\u001b[0m\u001b[0m\n\u001b[0m\u001b[0;32m     13\u001b[0m \u001b[1;33m\u001b[0m\u001b[0m\n\u001b[0;32m     14\u001b[0m     \u001b[0moutput_path\u001b[0m \u001b[1;33m=\u001b[0m \u001b[1;34mf\"./Data/Images/Subject/{subject}/output/\"\u001b[0m\u001b[1;33m\u001b[0m\u001b[1;33m\u001b[0m\u001b[0m\n",
      "\u001b[1;32m~\\anaconda3\\lib\\site-packages\\Augmentor\\Pipeline.py\u001b[0m in \u001b[0;36msample\u001b[1;34m(self, n, multi_threaded)\u001b[0m\n\u001b[0;32m    346\u001b[0m         \"\"\"\n\u001b[0;32m    347\u001b[0m         \u001b[1;32mif\u001b[0m \u001b[0mlen\u001b[0m\u001b[1;33m(\u001b[0m\u001b[0mself\u001b[0m\u001b[1;33m.\u001b[0m\u001b[0maugmentor_images\u001b[0m\u001b[1;33m)\u001b[0m \u001b[1;33m==\u001b[0m \u001b[1;36m0\u001b[0m\u001b[1;33m:\u001b[0m\u001b[1;33m\u001b[0m\u001b[1;33m\u001b[0m\u001b[0m\n\u001b[1;32m--> 348\u001b[1;33m             raise IndexError(\"There are no images in the pipeline. \"\n\u001b[0m\u001b[0;32m    349\u001b[0m                              \u001b[1;34m\"Add a directory using add_directory(), \"\u001b[0m\u001b[1;33m\u001b[0m\u001b[1;33m\u001b[0m\u001b[0m\n\u001b[0;32m    350\u001b[0m                              \"pointing it to a directory containing images.\")\n",
      "\u001b[1;31mIndexError\u001b[0m: There are no images in the pipeline. Add a directory using add_directory(), pointing it to a directory containing images."
     ]
    }
   ],
   "source": [
    "for subject in class_name:\n",
    "    subject = subject.replace(\" \", \"_\")\n",
    "    path = f'./Data/images/Subject/{subject}/'\n",
    "    p = Augmentor.Pipeline(path)\n",
    "    \n",
    "    # Defining augmentation parameters and generating 5 samples \n",
    "    p.flip_left_right(0.5) \n",
    "    p.black_and_white(0.15) b\n",
    "    p.rotate(0.6, 15, 15) \n",
    "    p.skew(0.6, 0.5) \n",
    "    p.zoom(probability = 0.3, min_factor = 1.4, max_factor = 2.0)\n",
    "    p.sample(1000)\n",
    "    \n",
    "    output_path = f\"./Data/Images/Subject/{subject}/output/\"\n",
    "    f_names = os.listdir(output_path)\n",
    "    for i in range(len(f_names)):\n",
    "        Path(output_path + f_names[i]).replace(f\"{output_path}{subject}_{i+1}.png\")"
   ]
  },
  {
   "cell_type": "code",
   "execution_count": 81,
   "metadata": {},
   "outputs": [
    {
     "name": "stderr",
     "output_type": "stream",
     "text": [
      "Executing Pipeline:   0%|                                                               | 0/1000 [00:00<?, ? Samples/s]"
     ]
    },
    {
     "name": "stdout",
     "output_type": "stream",
     "text": [
      "Initialised with 193 image(s) found.\n",
      "Output directory set to ./Data/images/Subject/repetition/output."
     ]
    },
    {
     "name": "stderr",
     "output_type": "stream",
     "text": [
      "Processing <PIL.Image.Image image mode=1 size=790x798 at 0x1B77006C108>: 100%|█| 1000/1000 [02:47<00:00,  5.98 Samples/\n",
      "Executing Pipeline:   0%|                                                               | 0/1000 [00:00<?, ? Samples/s]"
     ]
    },
    {
     "name": "stdout",
     "output_type": "stream",
     "text": [
      "Initialised with 74 image(s) found.\n",
      "Output directory set to ./Data/images/Subject/grid/output."
     ]
    },
    {
     "name": "stderr",
     "output_type": "stream",
     "text": [
      "Processing <PIL.Image.Image image mode=RGBA size=990x994 at 0x1B76F8F0688>: 100%|█| 1000/1000 [03:30<00:00,  4.75 Sampl\n",
      "Executing Pipeline:   0%|                                                               | 0/1000 [00:00<?, ? Samples/s]"
     ]
    },
    {
     "name": "stdout",
     "output_type": "stream",
     "text": [
      "Initialised with 4 image(s) found.\n",
      "Output directory set to ./Data/images/Subject/circle/output."
     ]
    },
    {
     "name": "stderr",
     "output_type": "stream",
     "text": [
      "Processing <PIL.Image.Image image mode=RGBA size=978x986 at 0x1B700253A88>: 100%|█| 1000/1000 [03:48<00:00,  4.37 Sampl\n",
      "Executing Pipeline:   0%|                                                               | 0/1000 [00:00<?, ? Samples/s]"
     ]
    },
    {
     "name": "stdout",
     "output_type": "stream",
     "text": [
      "Initialised with 252 image(s) found.\n",
      "Output directory set to ./Data/images/Subject/bands/output."
     ]
    },
    {
     "name": "stderr",
     "output_type": "stream",
     "text": [
      "Processing <PIL.PngImagePlugin.PngImageFile image mode=RGBA size=982x984 at 0x1B76E9AD3C8>: 100%|█| 1000/1000 [03:30<00\n"
     ]
    }
   ],
   "source": [
    "class_name_left = [\n",
    "    'repetition',\n",
    "    'grid',\n",
    "    'circle',\n",
    "    'bands'\n",
    "]\n",
    "\n",
    "for subject in class_name_left:\n",
    "    \n",
    "    path = f'./Data/images/Subject/{subject}/'\n",
    "    p = Augmentor.Pipeline(path)\n",
    "    \n",
    "    # Defining augmentation parameters and generating 5 samples \n",
    "    p.flip_left_right(0.5) \n",
    "    p.black_and_white(0.15) \n",
    "    p.rotate(0.6, 15, 15) \n",
    "    p.skew(0.6, 0.5) \n",
    "    p.zoom(probability = 0.3, min_factor = 1.4, max_factor = 2.0)\n",
    "    p.sample(1000)\n",
    "    \n",
    "    output_path = f\"./Data/Images/Subject/{subject}/output/\"\n",
    "    f_names = os.listdir(output_path)\n",
    "    for i in range(len(f_names)):\n",
    "        Path(output_path + f_names[i]).replace(f\"{output_path}{subject}_{i+1}.png\")"
   ]
  },
  {
   "cell_type": "code",
   "execution_count": null,
   "metadata": {},
   "outputs": [],
   "source": []
  },
  {
   "cell_type": "code",
   "execution_count": null,
   "metadata": {},
   "outputs": [],
   "source": []
  }
 ],
 "metadata": {
  "kernelspec": {
   "display_name": "Python 3",
   "language": "python",
   "name": "python3"
  },
  "language_info": {
   "codemirror_mode": {
    "name": "ipython",
    "version": 3
   },
   "file_extension": ".py",
   "mimetype": "text/x-python",
   "name": "python",
   "nbconvert_exporter": "python",
   "pygments_lexer": "ipython3",
   "version": "3.7.6"
  }
 },
 "nbformat": 4,
 "nbformat_minor": 4
}
