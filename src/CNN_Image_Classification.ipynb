{
 "cells": [
  {
   "cell_type": "code",
   "execution_count": 26,
   "metadata": {},
   "outputs": [],
   "source": [
    "import pandas as pd\n",
    "import numpy as np\n",
    "import matplotlib.pyplot as plt\n",
    "\n",
    "import category_encoders as ce\n",
    "\n",
    "from sklearn.model_selection import train_test_split"
   ]
  },
  {
   "cell_type": "markdown",
   "metadata": {},
   "source": [
    "# Using Agnes Martin Catalog Data with Style, Motif, and Subject labels with images to train a CNN\n",
    "\n",
    "**Process**\n",
    "1. create a dataframe with the images and labels\n",
    "2. split the dataset into train and test -> make sure the class distributions are the same for both\n",
    "3. Build, train, test a baseline CNN model to predict the class of each image\n",
    "4. Save the predictions (probability of each class) to be used as features in clustering model"
   ]
  },
  {
   "cell_type": "markdown",
   "metadata": {},
   "source": [
    "## Step 1: create our feature matrix with our images and labels"
   ]
  },
  {
   "cell_type": "code",
   "execution_count": 25,
   "metadata": {},
   "outputs": [
    {
     "data": {
      "text/html": [
       "<div>\n",
       "<style scoped>\n",
       "    .dataframe tbody tr th:only-of-type {\n",
       "        vertical-align: middle;\n",
       "    }\n",
       "\n",
       "    .dataframe tbody tr th {\n",
       "        vertical-align: top;\n",
       "    }\n",
       "\n",
       "    .dataframe thead th {\n",
       "        text-align: right;\n",
       "    }\n",
       "</style>\n",
       "<table border=\"1\" class=\"dataframe\">\n",
       "  <thead>\n",
       "    <tr style=\"text-align: right;\">\n",
       "      <th></th>\n",
       "      <th>id</th>\n",
       "      <th>link</th>\n",
       "      <th>title</th>\n",
       "      <th>no_pieces</th>\n",
       "      <th>circa</th>\n",
       "      <th>year_made</th>\n",
       "      <th>medium (alpha, )</th>\n",
       "      <th>support</th>\n",
       "      <th>height (cm)</th>\n",
       "      <th>width (cm)</th>\n",
       "      <th>...</th>\n",
       "      <th>no_ex</th>\n",
       "      <th>no_exspaces</th>\n",
       "      <th>no_semsoloex</th>\n",
       "      <th>no_pub</th>\n",
       "      <th>red</th>\n",
       "      <th>green</th>\n",
       "      <th>blue</th>\n",
       "      <th>hue</th>\n",
       "      <th>saturation</th>\n",
       "      <th>light</th>\n",
       "    </tr>\n",
       "  </thead>\n",
       "  <tbody>\n",
       "    <tr>\n",
       "      <th>0</th>\n",
       "      <td>1947.003</td>\n",
       "      <td>https://www.artifexpress.com/catalogues/agnes-...</td>\n",
       "      <td>Self Portrait</td>\n",
       "      <td>1</td>\n",
       "      <td>1</td>\n",
       "      <td>1947</td>\n",
       "      <td>encaustic</td>\n",
       "      <td>canvas</td>\n",
       "      <td>66.0</td>\n",
       "      <td>49.5</td>\n",
       "      <td>...</td>\n",
       "      <td>2</td>\n",
       "      <td>2</td>\n",
       "      <td>1</td>\n",
       "      <td>0</td>\n",
       "      <td>96</td>\n",
       "      <td>83</td>\n",
       "      <td>58</td>\n",
       "      <td>39</td>\n",
       "      <td>0.25</td>\n",
       "      <td>0.30</td>\n",
       "    </tr>\n",
       "    <tr>\n",
       "      <th>1</th>\n",
       "      <td>1947.006</td>\n",
       "      <td>https://www.artifexpress.com/catalogues/agnes-...</td>\n",
       "      <td>Portrait of Daphne Vaughn</td>\n",
       "      <td>1</td>\n",
       "      <td>1</td>\n",
       "      <td>1947</td>\n",
       "      <td>encaustic</td>\n",
       "      <td>canvas</td>\n",
       "      <td>50.8</td>\n",
       "      <td>40.6</td>\n",
       "      <td>...</td>\n",
       "      <td>2</td>\n",
       "      <td>4</td>\n",
       "      <td>0</td>\n",
       "      <td>4</td>\n",
       "      <td>122</td>\n",
       "      <td>65</td>\n",
       "      <td>36</td>\n",
       "      <td>20</td>\n",
       "      <td>0.54</td>\n",
       "      <td>0.31</td>\n",
       "    </tr>\n",
       "    <tr>\n",
       "      <th>2</th>\n",
       "      <td>1947.001</td>\n",
       "      <td>https://www.artifexpress.com/catalogues/agnes-...</td>\n",
       "      <td>Nude</td>\n",
       "      <td>1</td>\n",
       "      <td>0</td>\n",
       "      <td>1947</td>\n",
       "      <td>oil</td>\n",
       "      <td>canvas</td>\n",
       "      <td>50.8</td>\n",
       "      <td>40.6</td>\n",
       "      <td>...</td>\n",
       "      <td>3</td>\n",
       "      <td>6</td>\n",
       "      <td>0</td>\n",
       "      <td>4</td>\n",
       "      <td>125</td>\n",
       "      <td>122</td>\n",
       "      <td>73</td>\n",
       "      <td>57</td>\n",
       "      <td>0.26</td>\n",
       "      <td>0.39</td>\n",
       "    </tr>\n",
       "    <tr>\n",
       "      <th>3</th>\n",
       "      <td>1948.001</td>\n",
       "      <td>https://www.artifexpress.com/catalogues/agnes-...</td>\n",
       "      <td>Untitled</td>\n",
       "      <td>1</td>\n",
       "      <td>1</td>\n",
       "      <td>1948</td>\n",
       "      <td>encaustic</td>\n",
       "      <td>canvas</td>\n",
       "      <td>45.7</td>\n",
       "      <td>35.6</td>\n",
       "      <td>...</td>\n",
       "      <td>2</td>\n",
       "      <td>4</td>\n",
       "      <td>0</td>\n",
       "      <td>2</td>\n",
       "      <td>87</td>\n",
       "      <td>65</td>\n",
       "      <td>64</td>\n",
       "      <td>3</td>\n",
       "      <td>0.15</td>\n",
       "      <td>0.30</td>\n",
       "    </tr>\n",
       "    <tr>\n",
       "      <th>4</th>\n",
       "      <td>1949.001</td>\n",
       "      <td>https://www.artifexpress.com/catalogues/agnes-...</td>\n",
       "      <td>Untitled</td>\n",
       "      <td>1</td>\n",
       "      <td>1</td>\n",
       "      <td>1949</td>\n",
       "      <td>oil</td>\n",
       "      <td>masonite</td>\n",
       "      <td>25.6</td>\n",
       "      <td>53.3</td>\n",
       "      <td>...</td>\n",
       "      <td>2</td>\n",
       "      <td>4</td>\n",
       "      <td>0</td>\n",
       "      <td>6</td>\n",
       "      <td>91</td>\n",
       "      <td>48</td>\n",
       "      <td>38</td>\n",
       "      <td>11</td>\n",
       "      <td>0.41</td>\n",
       "      <td>0.25</td>\n",
       "    </tr>\n",
       "  </tbody>\n",
       "</table>\n",
       "<p>5 rows × 30 columns</p>\n",
       "</div>"
      ],
      "text/plain": [
       "         id                                               link  \\\n",
       "0  1947.003  https://www.artifexpress.com/catalogues/agnes-...   \n",
       "1  1947.006  https://www.artifexpress.com/catalogues/agnes-...   \n",
       "2  1947.001  https://www.artifexpress.com/catalogues/agnes-...   \n",
       "3  1948.001  https://www.artifexpress.com/catalogues/agnes-...   \n",
       "4  1949.001  https://www.artifexpress.com/catalogues/agnes-...   \n",
       "\n",
       "                       title  no_pieces  circa  year_made medium (alpha, )  \\\n",
       "0              Self Portrait          1      1       1947        encaustic   \n",
       "1  Portrait of Daphne Vaughn          1      1       1947        encaustic   \n",
       "2                       Nude          1      0       1947              oil   \n",
       "3                   Untitled          1      1       1948        encaustic   \n",
       "4                   Untitled          1      1       1949              oil   \n",
       "\n",
       "    support  height (cm)  width (cm)  ...  no_ex no_exspaces no_semsoloex  \\\n",
       "0    canvas         66.0        49.5  ...      2           2            1   \n",
       "1    canvas         50.8        40.6  ...      2           4            0   \n",
       "2    canvas         50.8        40.6  ...      3           6            0   \n",
       "3    canvas         45.7        35.6  ...      2           4            0   \n",
       "4  masonite         25.6        53.3  ...      2           4            0   \n",
       "\n",
       "  no_pub  red  green  blue hue saturation light  \n",
       "0      0   96     83    58  39       0.25  0.30  \n",
       "1      4  122     65    36  20       0.54  0.31  \n",
       "2      4  125    122    73  57       0.26  0.39  \n",
       "3      2   87     65    64   3       0.15  0.30  \n",
       "4      6   91     48    38  11       0.41  0.25  \n",
       "\n",
       "[5 rows x 30 columns]"
      ]
     },
     "execution_count": 25,
     "metadata": {},
     "output_type": "execute_result"
    }
   ],
   "source": [
    "# set path to data\n",
    "data_path = 'src/Data/CSV_Files/'\n",
    "\n",
    "# read csv file and print out first few rows\n",
    "df = pd.read_csv(data_path+'catalog_data.csv')\n",
    "df.head()"
   ]
  },
  {
   "cell_type": "code",
   "execution_count": 14,
   "metadata": {},
   "outputs": [
    {
     "data": {
      "text/html": [
       "<div>\n",
       "<style scoped>\n",
       "    .dataframe tbody tr th:only-of-type {\n",
       "        vertical-align: middle;\n",
       "    }\n",
       "\n",
       "    .dataframe tbody tr th {\n",
       "        vertical-align: top;\n",
       "    }\n",
       "\n",
       "    .dataframe thead th {\n",
       "        text-align: right;\n",
       "    }\n",
       "</style>\n",
       "<table border=\"1\" class=\"dataframe\">\n",
       "  <thead>\n",
       "    <tr style=\"text-align: right;\">\n",
       "      <th></th>\n",
       "      <th>id</th>\n",
       "      <th>subject</th>\n",
       "    </tr>\n",
       "  </thead>\n",
       "  <tbody>\n",
       "    <tr>\n",
       "      <th>0</th>\n",
       "      <td>1947.003</td>\n",
       "      <td>portrait</td>\n",
       "    </tr>\n",
       "    <tr>\n",
       "      <th>1</th>\n",
       "      <td>1947.006</td>\n",
       "      <td>portrait</td>\n",
       "    </tr>\n",
       "    <tr>\n",
       "      <th>2</th>\n",
       "      <td>1947.001</td>\n",
       "      <td>portrait</td>\n",
       "    </tr>\n",
       "    <tr>\n",
       "      <th>3</th>\n",
       "      <td>1948.001</td>\n",
       "      <td>still life</td>\n",
       "    </tr>\n",
       "    <tr>\n",
       "      <th>4</th>\n",
       "      <td>1949.001</td>\n",
       "      <td>abstract</td>\n",
       "    </tr>\n",
       "  </tbody>\n",
       "</table>\n",
       "</div>"
      ],
      "text/plain": [
       "         id     subject\n",
       "0  1947.003    portrait\n",
       "1  1947.006    portrait\n",
       "2  1947.001    portrait\n",
       "3  1948.001  still life\n",
       "4  1949.001    abstract"
      ]
     },
     "execution_count": 14,
     "metadata": {},
     "output_type": "execute_result"
    }
   ],
   "source": [
    "# drop all columns except for id and subject\n",
    "image_classes = df[['id', 'subject']]\n",
    "image_classes.head()"
   ]
  },
  {
   "cell_type": "code",
   "execution_count": 13,
   "metadata": {},
   "outputs": [
    {
     "data": {
      "text/plain": [
       "bands         255\n",
       "repetition    196\n",
       "grid           76\n",
       "rectangle      47\n",
       "square         19\n",
       "symmetry       14\n",
       "shape          10\n",
       "circle          4\n",
       "abstract        4\n",
       "figure          3\n",
       "portrait        3\n",
       "na              2\n",
       "gestural        2\n",
       "landscape       2\n",
       "still life      1\n",
       "Name: subject, dtype: int64"
      ]
     },
     "execution_count": 13,
     "metadata": {},
     "output_type": "execute_result"
    }
   ],
   "source": [
    "# look at distribution of classes\n",
    "df['subject'].value_counts()"
   ]
  },
  {
   "cell_type": "code",
   "execution_count": 31,
   "metadata": {},
   "outputs": [],
   "source": [
    "# drop still life from dataframe before split, need more than 2 for stratified split\n",
    "still_life = df[df['subject'] == 'still life'] \n",
    "df = df[df['subject'] != 'still life']"
   ]
  },
  {
   "cell_type": "code",
   "execution_count": 32,
   "metadata": {},
   "outputs": [
    {
     "data": {
      "text/plain": [
       "((509,), (128,), (509,), (128,))"
      ]
     },
     "execution_count": 32,
     "metadata": {},
     "output_type": "execute_result"
    }
   ],
   "source": [
    "# split into X features and y target -> style labels are the target classes we are trying to predict and \n",
    "# the id's will be used to get images which are the features for our model.\n",
    "X = df['id']\n",
    "y = df['subject']\n",
    "\n",
    "# split into train and test (80/20), stratified = y to make sure we keep the class distributions for train/test the same\n",
    "X_train, X_test, y_train, y_test = train_test_split(X, y, stratify=y, test_size=0.20)\n",
    "\n",
    "# print out the shape of X and y for the train and test data\n",
    "X_train.shape, X_test.shape, y_train.shape, y_test.shape"
   ]
  },
  {
   "cell_type": "code",
   "execution_count": 50,
   "metadata": {},
   "outputs": [
    {
     "data": {
      "text/plain": [
       "bands         40.078585\n",
       "repetition    30.844794\n",
       "grid          11.984283\n",
       "rectangle      7.269155\n",
       "square         2.946955\n",
       "symmetry       2.161100\n",
       "shape          1.571709\n",
       "circle         0.589391\n",
       "abstract       0.589391\n",
       "na             0.392927\n",
       "figure         0.392927\n",
       "portrait       0.392927\n",
       "gestural       0.392927\n",
       "landscape      0.392927\n",
       "Name: subject, dtype: float64"
      ]
     },
     "execution_count": 50,
     "metadata": {},
     "output_type": "execute_result"
    }
   ],
   "source": [
    "# look at the distribution of classes fot the training set\n",
    "y_train.value_counts(normalize=True)*100"
   ]
  },
  {
   "cell_type": "code",
   "execution_count": 51,
   "metadata": {},
   "outputs": [
    {
     "data": {
      "text/plain": [
       "bands         39.84375\n",
       "repetition    30.46875\n",
       "grid          11.71875\n",
       "rectangle      7.81250\n",
       "square         3.12500\n",
       "symmetry       2.34375\n",
       "shape          1.56250\n",
       "circle         0.78125\n",
       "abstract       0.78125\n",
       "figure         0.78125\n",
       "portrait       0.78125\n",
       "Name: subject, dtype: float64"
      ]
     },
     "execution_count": 51,
     "metadata": {},
     "output_type": "execute_result"
    }
   ],
   "source": [
    "# look at the distribution of classes fot the testing set\n",
    "y_test.value_counts(normalize=True)*100"
   ]
  },
  {
   "cell_type": "code",
   "execution_count": 42,
   "metadata": {},
   "outputs": [],
   "source": [
    "# function to encode categories and rename columns\n",
    "def encode_rename_cols(data, cols):\n",
    "    ce_one_hot = ce.OneHotEncoder(cols = cols, use_cat_names=True)\n",
    "    features = ce_one_hot.fit_transform(data)\n",
    "    cols = features.columns.tolist()\n",
    "    cols = [cat.replace('subject_', '') for cat in cols]\n",
    "    features.columns = cols\n",
    "    return features"
   ]
  },
  {
   "cell_type": "code",
   "execution_count": 52,
   "metadata": {},
   "outputs": [
    {
     "data": {
      "text/plain": [
       "((509, 14), (128, 11))"
      ]
     },
     "execution_count": 52,
     "metadata": {},
     "output_type": "execute_result"
    }
   ],
   "source": [
    "# encode the style column for train and test data\n",
    "y_train_encoded = encode_rename_cols(y_train, ['subject'])\n",
    "y_test_encoded = encode_rename_cols(y_test, ['subject'])\n",
    "\n",
    "# print out the shapes of the encoded train and test\n",
    "# y_train should have paintings for all subjects while y_test will have less\n",
    "y_train_encoded.shape, y_test_encoded.shape"
   ]
  },
  {
   "cell_type": "markdown",
   "metadata": {},
   "source": [
    "## Setting up the Convolutional Neural Network\n",
    "\n",
    "**Basic Architecture**"
   ]
  },
  {
   "cell_type": "code",
   "execution_count": null,
   "metadata": {},
   "outputs": [],
   "source": []
  },
  {
   "cell_type": "code",
   "execution_count": null,
   "metadata": {},
   "outputs": [],
   "source": []
  },
  {
   "cell_type": "code",
   "execution_count": null,
   "metadata": {},
   "outputs": [],
   "source": []
  },
  {
   "cell_type": "code",
   "execution_count": null,
   "metadata": {},
   "outputs": [],
   "source": []
  },
  {
   "cell_type": "code",
   "execution_count": null,
   "metadata": {},
   "outputs": [],
   "source": []
  },
  {
   "cell_type": "code",
   "execution_count": null,
   "metadata": {},
   "outputs": [],
   "source": []
  }
 ],
 "metadata": {
  "kernelspec": {
   "display_name": "Python 3",
   "language": "python",
   "name": "python3"
  },
  "language_info": {
   "codemirror_mode": {
    "name": "ipython",
    "version": 3
   },
   "file_extension": ".py",
   "mimetype": "text/x-python",
   "name": "python",
   "nbconvert_exporter": "python",
   "pygments_lexer": "ipython3",
   "version": "3.7.6"
  }
 },
 "nbformat": 4,
 "nbformat_minor": 4
}
