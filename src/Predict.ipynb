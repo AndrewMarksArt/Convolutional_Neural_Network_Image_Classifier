{
 "cells": [
  {
   "cell_type": "code",
   "execution_count": 5,
   "metadata": {},
   "outputs": [],
   "source": [
    "from tensorflow.keras.models import load_model\n",
    "import pickle\n",
    "import cv2"
   ]
  },
  {
   "cell_type": "code",
   "execution_count": null,
   "metadata": {},
   "outputs": [],
   "source": []
  },
  {
   "cell_type": "code",
   "execution_count": 113,
   "metadata": {},
   "outputs": [],
   "source": [
    "# load image, save a copy for output, resize the image\n",
    "image = cv2.imread(\"./Data/predict_images/1957.011.png\")\n",
    "output = image.copy()\n",
    "image = cv2.resize(image, (64, 64))\n",
    "\n",
    "# scale image pixels between 0 and 1\n",
    "image = image.astype(\"float\") / 255.0"
   ]
  },
  {
   "cell_type": "code",
   "execution_count": 114,
   "metadata": {},
   "outputs": [],
   "source": [
    "image = image.reshape(\n",
    "    (1, image.shape[0], image.shape[1], image.shape[2])\n",
    ")"
   ]
  },
  {
   "cell_type": "code",
   "execution_count": 115,
   "metadata": {},
   "outputs": [],
   "source": [
    "# load the model and the label binarizer\n",
    "model = load_model(\"./output/first_pass_cnn.model\")\n",
    "lb = pickle.loads(open(\"./output/first_pass_labels.pickle\", \"rb\").read())"
   ]
  },
  {
   "cell_type": "code",
   "execution_count": 117,
   "metadata": {},
   "outputs": [
    {
     "name": "stdout",
     "output_type": "stream",
     "text": [
      "['0.00103168%', '0.00079847%', '0.00017327%', '0.00012139%', '0.00010139%', '0.02648384%', '0.00143740%', '0.00077361%', '0.00027989%', '0.00451232%', '0.00175067%', '0.00091501%', '0.00077176%', '59.43118334%', '40.52966833%']\n"
     ]
    }
   ],
   "source": [
    "pred = model.predict(image)\n",
    "pred_values = [f'{value*100:.8f}%' for value in pred[0]]\n",
    "print(pred_values)"
   ]
  },
  {
   "cell_type": "code",
   "execution_count": 118,
   "metadata": {},
   "outputs": [
    {
     "name": "stdout",
     "output_type": "stream",
     "text": [
      "symmetry\n"
     ]
    }
   ],
   "source": [
    "i = pred.argmax(axis=1)[0]\n",
    "label = lb.classes_[i]\n",
    "print(label)"
   ]
  },
  {
   "cell_type": "code",
   "execution_count": 119,
   "metadata": {},
   "outputs": [
    {
     "data": {
      "text/plain": [
       "-1"
      ]
     },
     "execution_count": 119,
     "metadata": {},
     "output_type": "execute_result"
    }
   ],
   "source": [
    "# display the results\n",
    "# draw the class label and probability on the output image\n",
    "text = \"{}: {:.2f}%\".format(label, pred[0][i] * 100)\n",
    "cv2.putText(output, text, (10, 30), cv2.FONT_HERSHEY_SIMPLEX, 0.7,\n",
    "            (0, 0, 255), 2)\n",
    "\n",
    "# show the output image\n",
    "cv2.imshow(\"Image\", output)\n",
    "cv2.waitKey(0)"
   ]
  },
  {
   "cell_type": "code",
   "execution_count": null,
   "metadata": {},
   "outputs": [],
   "source": []
  },
  {
   "cell_type": "code",
   "execution_count": null,
   "metadata": {},
   "outputs": [],
   "source": []
  }
 ],
 "metadata": {
  "kernelspec": {
   "display_name": "Python 3",
   "language": "python",
   "name": "python3"
  },
  "language_info": {
   "codemirror_mode": {
    "name": "ipython",
    "version": 3
   },
   "file_extension": ".py",
   "mimetype": "text/x-python",
   "name": "python",
   "nbconvert_exporter": "python",
   "pygments_lexer": "ipython3",
   "version": "3.7.6"
  }
 },
 "nbformat": 4,
 "nbformat_minor": 4
}
